{
 "cells": [
  {
   "cell_type": "code",
   "execution_count": 1,
   "metadata": {},
   "outputs": [],
   "source": [
    "# import matplotlib.pyplot as plt\n",
    "import geopandas as gpd\n",
    "import pandas as pd\n",
    "import numpy as np\n",
    "import requests"
   ]
  },
  {
   "cell_type": "code",
   "execution_count": 42,
   "outputs": [
    {
     "data": {
      "text/plain": "   idImpianto                                           Gestore      Bandiera  \\\n0       52829                                       ERRA NICOLA        Api-Ip   \n1       55389                                                          Api-Ip   \n2       23778  ALFONSO DI BENEDETTO CARBURANTI LUBRIFICANTI SRL  Sicilpetroli   \n3       49195                 EOS SERVICES S.R.L. A SOCIO UNICO            Q8   \n4       49460                 EOS SERVICES S.R.L. A SOCIO UNICO            Q8   \n\n  Tipo Impianto                     Nome Impianto  \\\n0      Stradale                                     \n1      Stradale                                     \n2      Stradale  A. Di Benedetto srl Via Imera Ag   \n3      Stradale                             AG021   \n4      Stradale                             AG023   \n\n                                           Indirizzo     Comune Provincia  \\\n0                                                                           \n1  VIA S.S.158 KM 2+700 SNC 81016, PIEDIMONTE MAT...                        \n2        VIA IMERA SN 92100, AGRIGENTO (AG) 10 92100  AGRIGENTO        AG   \n3                            VIA PETRARCA S.N. 92100  AGRIGENTO        AG   \n4                     CONTRADA FONTANELLE S.N. 92100  AGRIGENTO        AG   \n\n                                       geometry  \n0                 POINT (14.9413282 40.7160385)  \n1                 POINT (14.3634188 41.3438608)  \n2  POINT (13.58591309570079 37.312390927445705)  \n3  POINT (13.589792251586909 37.29823424642592)  \n4  POINT (13.591820001602168 37.32612049037331)  ",
      "text/html": "<div>\n<style scoped>\n    .dataframe tbody tr th:only-of-type {\n        vertical-align: middle;\n    }\n\n    .dataframe tbody tr th {\n        vertical-align: top;\n    }\n\n    .dataframe thead th {\n        text-align: right;\n    }\n</style>\n<table border=\"1\" class=\"dataframe\">\n  <thead>\n    <tr style=\"text-align: right;\">\n      <th></th>\n      <th>idImpianto</th>\n      <th>Gestore</th>\n      <th>Bandiera</th>\n      <th>Tipo Impianto</th>\n      <th>Nome Impianto</th>\n      <th>Indirizzo</th>\n      <th>Comune</th>\n      <th>Provincia</th>\n      <th>geometry</th>\n    </tr>\n  </thead>\n  <tbody>\n    <tr>\n      <th>0</th>\n      <td>52829</td>\n      <td>ERRA NICOLA</td>\n      <td>Api-Ip</td>\n      <td>Stradale</td>\n      <td></td>\n      <td></td>\n      <td></td>\n      <td></td>\n      <td>POINT (14.9413282 40.7160385)</td>\n    </tr>\n    <tr>\n      <th>1</th>\n      <td>55389</td>\n      <td></td>\n      <td>Api-Ip</td>\n      <td>Stradale</td>\n      <td></td>\n      <td>VIA S.S.158 KM 2+700 SNC 81016, PIEDIMONTE MAT...</td>\n      <td></td>\n      <td></td>\n      <td>POINT (14.3634188 41.3438608)</td>\n    </tr>\n    <tr>\n      <th>2</th>\n      <td>23778</td>\n      <td>ALFONSO DI BENEDETTO CARBURANTI LUBRIFICANTI SRL</td>\n      <td>Sicilpetroli</td>\n      <td>Stradale</td>\n      <td>A. Di Benedetto srl Via Imera Ag</td>\n      <td>VIA IMERA SN 92100, AGRIGENTO (AG) 10 92100</td>\n      <td>AGRIGENTO</td>\n      <td>AG</td>\n      <td>POINT (13.58591309570079 37.312390927445705)</td>\n    </tr>\n    <tr>\n      <th>3</th>\n      <td>49195</td>\n      <td>EOS SERVICES S.R.L. A SOCIO UNICO</td>\n      <td>Q8</td>\n      <td>Stradale</td>\n      <td>AG021</td>\n      <td>VIA PETRARCA S.N. 92100</td>\n      <td>AGRIGENTO</td>\n      <td>AG</td>\n      <td>POINT (13.589792251586909 37.29823424642592)</td>\n    </tr>\n    <tr>\n      <th>4</th>\n      <td>49460</td>\n      <td>EOS SERVICES S.R.L. A SOCIO UNICO</td>\n      <td>Q8</td>\n      <td>Stradale</td>\n      <td>AG023</td>\n      <td>CONTRADA FONTANELLE S.N. 92100</td>\n      <td>AGRIGENTO</td>\n      <td>AG</td>\n      <td>POINT (13.591820001602168 37.32612049037331)</td>\n    </tr>\n  </tbody>\n</table>\n</div>"
     },
     "execution_count": 42,
     "metadata": {},
     "output_type": "execute_result"
    }
   ],
   "source": [
    "url_impianti = \"https://www.mise.gov.it/images/exportCSV/anagrafica_impianti_attivi.csv\"\n",
    "\n",
    "df_impianti = (\n",
    "    pd.read_csv(url_impianti, delimiter=';', skiprows=1, on_bad_lines='skip')\n",
    "    .dropna(subset=['Latitudine', 'Longitudine']).reset_index(drop=True)\n",
    "    .fillna(\"\")\n",
    ")\n",
    "\n",
    "geo_stations = gpd.GeoDataFrame(\n",
    "    df_impianti.drop(columns=['Latitudine', 'Longitudine']),\n",
    "    crs='EPSG:4326',\n",
    "    geometry=gpd.points_from_xy(df_impianti.Longitudine, df_impianti.Latitudine)\n",
    ")\n",
    "\n",
    "geo_stations = (\n",
    "    geo_stations\n",
    "    .loc[geo_stations.geometry.is_valid,:]\n",
    "    .assign(\n",
    "        geom=lambda x: x.geometry.apply(lambda x: x.wkt),\n",
    "    )\n",
    "    .drop(columns=[\"geometry\"])\n",
    "    .rename(columns={'geom': 'geometry'})\n",
    ")\n",
    "\n",
    "geo_stations.head()"
   ],
   "metadata": {
    "collapsed": false
   }
  },
  {
   "cell_type": "code",
   "execution_count": 43,
   "outputs": [
    {
     "data": {
      "text/plain": "{'idImpianto': dtype('int64'),\n 'Gestore': dtype('O'),\n 'Bandiera': dtype('O'),\n 'Tipo Impianto': dtype('O'),\n 'Nome Impianto': dtype('O'),\n 'Indirizzo': dtype('O'),\n 'Comune': dtype('O'),\n 'Provincia': dtype('O'),\n 'geometry': dtype('O')}"
     },
     "execution_count": 43,
     "metadata": {},
     "output_type": "execute_result"
    }
   ],
   "source": [
    "geo_stations.dtypes.to_dict()"
   ],
   "metadata": {
    "collapsed": false
   }
  },
  {
   "cell_type": "code",
   "execution_count": 44,
   "outputs": [
    {
     "data": {
      "text/plain": "22263"
     },
     "execution_count": 44,
     "metadata": {},
     "output_type": "execute_result"
    }
   ],
   "source": [
    "import sqlite3\n",
    "\n",
    "conn = sqlite3.connect('mydatabase.db')\n",
    "\n",
    "impianti_dtypes = {'idImpianto': 'INTEGER',\n",
    "                   'Gestore': 'TEXT',\n",
    "                   'Bandiera': 'TEXT',\n",
    "                   'Tipo Impianto': 'TEXT',\n",
    "                   'Nome Impianto': 'TEXT',\n",
    "                   'Indirizzo': 'TEXT',\n",
    "                   'Comune': 'TEXT',\n",
    "                   'Provincia': 'TEXT',\n",
    "                   'geometry': 'TEXT'\n",
    "                   }\n",
    "\n",
    "geo_stations.to_sql(\n",
    "    'impianti',\n",
    "    conn,\n",
    "    if_exists='replace',\n",
    "    index=False,\n",
    "    dtype=impianti_dtypes,\n",
    "    index_label='idImpianto'\n",
    ")\n"
   ],
   "metadata": {
    "collapsed": false
   }
  },
  {
   "cell_type": "code",
   "execution_count": 47,
   "outputs": [],
   "source": [
    "import json\n",
    "\n",
    "with open(\"./../data/municipalities.geojson\") as f:\n",
    "    municipalities = json.load(f)"
   ],
   "metadata": {
    "collapsed": false
   }
  },
  {
   "cell_type": "code",
   "execution_count": 54,
   "outputs": [
    {
     "data": {
      "text/plain": "<shapely.geometry.point.Point at 0x7f8b089644f0>",
      "image/svg+xml": "<svg xmlns=\"http://www.w3.org/2000/svg\" xmlns:xlink=\"http://www.w3.org/1999/xlink\" width=\"100.0\" height=\"100.0\" viewBox=\"13.9413282 39.7160385 2.0 2.0\" preserveAspectRatio=\"xMinYMin meet\"><g transform=\"matrix(1,0,0,-1,0,81.432077)\"><circle cx=\"14.9413282\" cy=\"40.7160385\" r=\"0.06\" stroke=\"#555555\" stroke-width=\"0.02\" fill=\"#66cc99\" opacity=\"0.6\" /></g></svg>"
     },
     "execution_count": 54,
     "metadata": {},
     "output_type": "execute_result"
    }
   ],
   "source": [
    "from shapely.geometry import Point\n",
    "\n",
    "Point(14.9413282, 40.7160385)"
   ],
   "metadata": {
    "collapsed": false
   }
  },
  {
   "cell_type": "code",
   "execution_count": 51,
   "outputs": [
    {
     "data": {
      "text/plain": "{'COD_RIP': 1,\n 'COD_REG': 1,\n 'COD_PROV': 1,\n 'COD_CM': 201,\n 'COD_UTS': 201,\n 'PRO_COM': 1001,\n 'PRO_COM_T': '001001',\n 'COMUNE': 'Agliè',\n 'COMUNE_A': None,\n 'CC_UTS': 0}"
     },
     "execution_count": 51,
     "metadata": {},
     "output_type": "execute_result"
    }
   ],
   "source": [
    "municipalities['features'][0]['properties']"
   ],
   "metadata": {
    "collapsed": false
   }
  },
  {
   "cell_type": "code",
   "execution_count": 55,
   "outputs": [],
   "source": [
    "municipalities_df = (\n",
    "    pd.read_csv( \"./../data/municipalities.csv.zip\")\n",
    "    # .assign(COMUNE=lambda x: x.COMUNE.apply(utils.remove_punctuations))\n",
    ")"
   ],
   "metadata": {
    "collapsed": false
   }
  },
  {
   "cell_type": "code",
   "execution_count": 56,
   "outputs": [
    {
     "data": {
      "text/plain": "                                       centroid  \\\n0   POINT (7.77438473328457 45.365267788755006)   \n1  POINT (7.482719589182202 44.922805872073006)   \n2  POINT (7.279625871038801 45.306443644935214)   \n3    POINT (7.944874098546918 45.4327971419774)   \n4   POINT (7.419420048583179 45.11763782535727)   \n5   POINT (7.576692373107719 45.40644645770186)   \n6   POINT (7.517815256149824 45.10039625805724)   \n7   POINT (7.866137790857037 45.03696438892139)   \n8   POINT (7.889573081561789 45.54799642402708)   \n9  POINT (7.180346375226828 44.857482043588554)   \n\n                                         area_comune  \\\n0  POLYGON ((7.78266151527247 45.387173495222605,...   \n1  POLYGON ((7.487945585268734 44.939174239805055...   \n2  POLYGON ((7.273242283200161 45.33927257986763,...   \n3  POLYGON ((7.925073017943038 45.44820877844028,...   \n4  POLYGON ((7.434899721146959 45.13441511853141,...   \n5  POLYGON ((7.579870178549174 45.418879009661744...   \n6  POLYGON ((7.502389814464156 45.12063405347992,...   \n7  POLYGON ((7.858296592220421 45.05250395206496,...   \n8  POLYGON ((7.895156838364347 45.57278176733462,...   \n9  POLYGON ((7.148578644132444 44.892901303045505...   \n\n                                            buffer_1  \\\n0  POLYGON ((7.780842785894362 45.39608210162762,...   \n1  POLYGON ((7.4854739280093145 44.94800184582696...   \n2  POLYGON ((7.271372041366471 45.34817476770543,...   \n3  POLYGON ((7.914522502957654 45.45329431013087,...   \n4  POLYGON ((7.441100526066923 45.14227259934236,...   \n5  POLYGON ((7.574992714446032 45.42719771300928,...   \n6  POLYGON ((7.490721908802432 45.12420737143161,...   \n7  POLYGON ((7.854359654817864 45.06106142966768,...   \n8  POLYGON ((7.907780258375221 45.57470498655645,...   \n9  POLYGON ((7.139394599513931 44.89909659443453,...   \n\n                                            buffer_3  \\\n0  POLYGON ((7.777203525139583 45.413899168705, 7...   \n1  POLYGON ((7.42223824096932 44.94285463879774, ...   \n2  POLYGON ((7.267629675205641 45.365978985437565...   \n3  POLYGON ((7.893415811285292 45.46346238253247,...   \n4  POLYGON ((7.453507189535794 45.157986587988546...   \n5  POLYGON ((7.565233410465919 45.443834406737, 7...   \n6  POLYGON ((7.467381802604695 45.131350365214054...   \n7  POLYGON ((7.846482186040217 45.07817590423023,...   \n8  POLYGON ((7.933257224078595 45.54267481825138,...   \n9  POLYGON ((7.121020596076201 44.91148484285734,...   \n\n                                            buffer_5  \\\n0  POLYGON ((7.703617916432968 45.3938307067398, ...   \n1  POLYGON ((7.400385422578797 44.95269484117023,...   \n2  POLYGON ((7.263884796251277 45.383782992389015...   \n3  POLYGON ((7.87230156927117 45.473626463546374,...   \n4  POLYGON ((7.465920597454609 45.1736992774897, ...   \n5  POLYGON ((7.555468266183322 45.460470148642365...   \n6  POLYGON ((7.44403597211466 45.13848849992509, ...   \n7  POLYGON ((7.838599920191038 45.095289737130905...   \n8  POLYGON ((7.958282795383896 45.58238398102625,...   \n9  POLYGON ((7.102638703093244 44.92386997565847,...   \n\n                                      stationsId_one  \\\n0                      11874;51630;52787;45515;35308   \n1                                   9902;17525;53077   \n2                                                      \n3                                        52112;40943   \n4                             47816;6389;54189;42563   \n5                                              41400   \n6  7872;36991;43361;43114;44380;10722;38465;8359;...   \n7                                  32456;47312;51949   \n8                                                      \n9                                        45454;48953   \n\n                                    stationsId_three  \\\n0                      33120;32042;39964;22530;11889   \n1                  3743;3844;55362;30968;54247;13819   \n2                                                      \n3                        6228;5702;25209;47815;34549   \n4             44444;44735;9505;11859;8005;6395;47210   \n5                                              39915   \n6  39188;6393;47153;40157;38966;21859;21862;41455...   \n7                             47145;37172;19734;7508   \n8                             47817;51245;4141;11881   \n9                                                      \n\n                                     stationsId_five  \\\n0  40737;49699;11877;45832;6932;25285;41941;39775...   \n1                20694;42063;34826;45516;33813;50539   \n2                                              29319   \n3  42893;48734;39635;39568;53886;54295;15418;7491...   \n4  7872;43114;32022;44380;18604;30893;42857;11868...   \n5                                        54720;10595   \n6  11859;53910;31341;4884;47138;52785;21492;49396...   \n7  50324;37603;11888;28762;39869;51095;37910;5272...   \n8                                         48734;6032   \n9  10540;13926;53576;19954;53578;53449;11100;3991...   \n\n                                        all_stations  COD_RIP  COD_REG  \\\n0  11874;51630;33120;32042;40737;52787;39964;4969...        1        1   \n1  9902;17525;20694;42063;53077;34826;45516;33813...        1        1   \n2                                              29319        1        1   \n3  52112;40943;42893;6228;5702;48734;39635;25209;...        1        1   \n4  47816;6389;54189;7872;43114;44444;44735;9505;3...        1        1   \n5                            54720;41400;10595;39915        1        1   \n6  7872;36991;43361;43114;11859;44380;53910;39188...        1        1   \n7  50324;32456;47312;47145;37603;11888;37172;2876...        1        1   \n8                  47817;51245;48734;6032;4141;11881        1        1   \n9  10540;13926;53576;19954;45454;53578;53449;1110...        1        1   \n\n   COD_PROV  COD_CM  COD_UTS  PRO_COM  PRO_COM_T           COMUNE  COMUNE_A  \\\n0         1     201      201     1001       1001            Agliè       NaN   \n1         1     201      201     1002       1002          Airasca       NaN   \n2         1     201      201     1003       1003     Ala di Stura       NaN   \n3         1     201      201     1004       1004  Albiano d'Ivrea       NaN   \n4         1     201      201     1006       1006           Almese       NaN   \n5         1     201      201     1007       1007          Alpette       NaN   \n6         1     201      201     1008       1008        Alpignano       NaN   \n7         1     201      201     1009       1009         Andezeno       NaN   \n8         1     201      201     1010       1010          Andrate       NaN   \n9         1     201      201     1011       1011         Angrogna       NaN   \n\n   CC_UTS                                           geometry  \n0       0  MULTIPOLYGON (((404703.55819999985 5026682.654...  \n1       0  MULTIPOLYGON (((380700.9090999998 4977305.5200...  \n2       0  MULTIPOLYGON (((364710.85699999984 5022090.677...  \n3       0  MULTIPOLYGON (((415942.5039999997 5033304.6089...  \n4       0  MULTIPOLYGON (((376934.96169999987 4999073.853...  \n5       0  MULTIPOLYGON (((388890.7368000001 5030465.1226...  \n6       0  MULTIPOLYGON (((382213.39070000034 4997442.367...  \n7       0  MULTIPOLYGON (((410098.52799999993 4989416.935...  \n8       0  MULTIPOLYGON (((413793.51769999973 5047176.004...  \n9       0  MULTIPOLYGON (((353807.9578 4972720.5448, 3538...  ",
      "text/html": "<div>\n<style scoped>\n    .dataframe tbody tr th:only-of-type {\n        vertical-align: middle;\n    }\n\n    .dataframe tbody tr th {\n        vertical-align: top;\n    }\n\n    .dataframe thead th {\n        text-align: right;\n    }\n</style>\n<table border=\"1\" class=\"dataframe\">\n  <thead>\n    <tr style=\"text-align: right;\">\n      <th></th>\n      <th>centroid</th>\n      <th>area_comune</th>\n      <th>buffer_1</th>\n      <th>buffer_3</th>\n      <th>buffer_5</th>\n      <th>stationsId_one</th>\n      <th>stationsId_three</th>\n      <th>stationsId_five</th>\n      <th>all_stations</th>\n      <th>COD_RIP</th>\n      <th>COD_REG</th>\n      <th>COD_PROV</th>\n      <th>COD_CM</th>\n      <th>COD_UTS</th>\n      <th>PRO_COM</th>\n      <th>PRO_COM_T</th>\n      <th>COMUNE</th>\n      <th>COMUNE_A</th>\n      <th>CC_UTS</th>\n      <th>geometry</th>\n    </tr>\n  </thead>\n  <tbody>\n    <tr>\n      <th>0</th>\n      <td>POINT (7.77438473328457 45.365267788755006)</td>\n      <td>POLYGON ((7.78266151527247 45.387173495222605,...</td>\n      <td>POLYGON ((7.780842785894362 45.39608210162762,...</td>\n      <td>POLYGON ((7.777203525139583 45.413899168705, 7...</td>\n      <td>POLYGON ((7.703617916432968 45.3938307067398, ...</td>\n      <td>11874;51630;52787;45515;35308</td>\n      <td>33120;32042;39964;22530;11889</td>\n      <td>40737;49699;11877;45832;6932;25285;41941;39775...</td>\n      <td>11874;51630;33120;32042;40737;52787;39964;4969...</td>\n      <td>1</td>\n      <td>1</td>\n      <td>1</td>\n      <td>201</td>\n      <td>201</td>\n      <td>1001</td>\n      <td>1001</td>\n      <td>Agliè</td>\n      <td>NaN</td>\n      <td>0</td>\n      <td>MULTIPOLYGON (((404703.55819999985 5026682.654...</td>\n    </tr>\n    <tr>\n      <th>1</th>\n      <td>POINT (7.482719589182202 44.922805872073006)</td>\n      <td>POLYGON ((7.487945585268734 44.939174239805055...</td>\n      <td>POLYGON ((7.4854739280093145 44.94800184582696...</td>\n      <td>POLYGON ((7.42223824096932 44.94285463879774, ...</td>\n      <td>POLYGON ((7.400385422578797 44.95269484117023,...</td>\n      <td>9902;17525;53077</td>\n      <td>3743;3844;55362;30968;54247;13819</td>\n      <td>20694;42063;34826;45516;33813;50539</td>\n      <td>9902;17525;20694;42063;53077;34826;45516;33813...</td>\n      <td>1</td>\n      <td>1</td>\n      <td>1</td>\n      <td>201</td>\n      <td>201</td>\n      <td>1002</td>\n      <td>1002</td>\n      <td>Airasca</td>\n      <td>NaN</td>\n      <td>0</td>\n      <td>MULTIPOLYGON (((380700.9090999998 4977305.5200...</td>\n    </tr>\n    <tr>\n      <th>2</th>\n      <td>POINT (7.279625871038801 45.306443644935214)</td>\n      <td>POLYGON ((7.273242283200161 45.33927257986763,...</td>\n      <td>POLYGON ((7.271372041366471 45.34817476770543,...</td>\n      <td>POLYGON ((7.267629675205641 45.365978985437565...</td>\n      <td>POLYGON ((7.263884796251277 45.383782992389015...</td>\n      <td></td>\n      <td></td>\n      <td>29319</td>\n      <td>29319</td>\n      <td>1</td>\n      <td>1</td>\n      <td>1</td>\n      <td>201</td>\n      <td>201</td>\n      <td>1003</td>\n      <td>1003</td>\n      <td>Ala di Stura</td>\n      <td>NaN</td>\n      <td>0</td>\n      <td>MULTIPOLYGON (((364710.85699999984 5022090.677...</td>\n    </tr>\n    <tr>\n      <th>3</th>\n      <td>POINT (7.944874098546918 45.4327971419774)</td>\n      <td>POLYGON ((7.925073017943038 45.44820877844028,...</td>\n      <td>POLYGON ((7.914522502957654 45.45329431013087,...</td>\n      <td>POLYGON ((7.893415811285292 45.46346238253247,...</td>\n      <td>POLYGON ((7.87230156927117 45.473626463546374,...</td>\n      <td>52112;40943</td>\n      <td>6228;5702;25209;47815;34549</td>\n      <td>42893;48734;39635;39568;53886;54295;15418;7491...</td>\n      <td>52112;40943;42893;6228;5702;48734;39635;25209;...</td>\n      <td>1</td>\n      <td>1</td>\n      <td>1</td>\n      <td>201</td>\n      <td>201</td>\n      <td>1004</td>\n      <td>1004</td>\n      <td>Albiano d'Ivrea</td>\n      <td>NaN</td>\n      <td>0</td>\n      <td>MULTIPOLYGON (((415942.5039999997 5033304.6089...</td>\n    </tr>\n    <tr>\n      <th>4</th>\n      <td>POINT (7.419420048583179 45.11763782535727)</td>\n      <td>POLYGON ((7.434899721146959 45.13441511853141,...</td>\n      <td>POLYGON ((7.441100526066923 45.14227259934236,...</td>\n      <td>POLYGON ((7.453507189535794 45.157986587988546...</td>\n      <td>POLYGON ((7.465920597454609 45.1736992774897, ...</td>\n      <td>47816;6389;54189;42563</td>\n      <td>44444;44735;9505;11859;8005;6395;47210</td>\n      <td>7872;43114;32022;44380;18604;30893;42857;11868...</td>\n      <td>47816;6389;54189;7872;43114;44444;44735;9505;3...</td>\n      <td>1</td>\n      <td>1</td>\n      <td>1</td>\n      <td>201</td>\n      <td>201</td>\n      <td>1006</td>\n      <td>1006</td>\n      <td>Almese</td>\n      <td>NaN</td>\n      <td>0</td>\n      <td>MULTIPOLYGON (((376934.96169999987 4999073.853...</td>\n    </tr>\n    <tr>\n      <th>5</th>\n      <td>POINT (7.576692373107719 45.40644645770186)</td>\n      <td>POLYGON ((7.579870178549174 45.418879009661744...</td>\n      <td>POLYGON ((7.574992714446032 45.42719771300928,...</td>\n      <td>POLYGON ((7.565233410465919 45.443834406737, 7...</td>\n      <td>POLYGON ((7.555468266183322 45.460470148642365...</td>\n      <td>41400</td>\n      <td>39915</td>\n      <td>54720;10595</td>\n      <td>54720;41400;10595;39915</td>\n      <td>1</td>\n      <td>1</td>\n      <td>1</td>\n      <td>201</td>\n      <td>201</td>\n      <td>1007</td>\n      <td>1007</td>\n      <td>Alpette</td>\n      <td>NaN</td>\n      <td>0</td>\n      <td>MULTIPOLYGON (((388890.7368000001 5030465.1226...</td>\n    </tr>\n    <tr>\n      <th>6</th>\n      <td>POINT (7.517815256149824 45.10039625805724)</td>\n      <td>POLYGON ((7.502389814464156 45.12063405347992,...</td>\n      <td>POLYGON ((7.490721908802432 45.12420737143161,...</td>\n      <td>POLYGON ((7.467381802604695 45.131350365214054...</td>\n      <td>POLYGON ((7.44403597211466 45.13848849992509, ...</td>\n      <td>7872;36991;43361;43114;44380;10722;38465;8359;...</td>\n      <td>39188;6393;47153;40157;38966;21859;21862;41455...</td>\n      <td>11859;53910;31341;4884;47138;52785;21492;49396...</td>\n      <td>7872;36991;43361;43114;11859;44380;53910;39188...</td>\n      <td>1</td>\n      <td>1</td>\n      <td>1</td>\n      <td>201</td>\n      <td>201</td>\n      <td>1008</td>\n      <td>1008</td>\n      <td>Alpignano</td>\n      <td>NaN</td>\n      <td>0</td>\n      <td>MULTIPOLYGON (((382213.39070000034 4997442.367...</td>\n    </tr>\n    <tr>\n      <th>7</th>\n      <td>POINT (7.866137790857037 45.03696438892139)</td>\n      <td>POLYGON ((7.858296592220421 45.05250395206496,...</td>\n      <td>POLYGON ((7.854359654817864 45.06106142966768,...</td>\n      <td>POLYGON ((7.846482186040217 45.07817590423023,...</td>\n      <td>POLYGON ((7.838599920191038 45.095289737130905...</td>\n      <td>32456;47312;51949</td>\n      <td>47145;37172;19734;7508</td>\n      <td>50324;37603;11888;28762;39869;51095;37910;5272...</td>\n      <td>50324;32456;47312;47145;37603;11888;37172;2876...</td>\n      <td>1</td>\n      <td>1</td>\n      <td>1</td>\n      <td>201</td>\n      <td>201</td>\n      <td>1009</td>\n      <td>1009</td>\n      <td>Andezeno</td>\n      <td>NaN</td>\n      <td>0</td>\n      <td>MULTIPOLYGON (((410098.52799999993 4989416.935...</td>\n    </tr>\n    <tr>\n      <th>8</th>\n      <td>POINT (7.889573081561789 45.54799642402708)</td>\n      <td>POLYGON ((7.895156838364347 45.57278176733462,...</td>\n      <td>POLYGON ((7.907780258375221 45.57470498655645,...</td>\n      <td>POLYGON ((7.933257224078595 45.54267481825138,...</td>\n      <td>POLYGON ((7.958282795383896 45.58238398102625,...</td>\n      <td></td>\n      <td>47817;51245;4141;11881</td>\n      <td>48734;6032</td>\n      <td>47817;51245;48734;6032;4141;11881</td>\n      <td>1</td>\n      <td>1</td>\n      <td>1</td>\n      <td>201</td>\n      <td>201</td>\n      <td>1010</td>\n      <td>1010</td>\n      <td>Andrate</td>\n      <td>NaN</td>\n      <td>0</td>\n      <td>MULTIPOLYGON (((413793.51769999973 5047176.004...</td>\n    </tr>\n    <tr>\n      <th>9</th>\n      <td>POINT (7.180346375226828 44.857482043588554)</td>\n      <td>POLYGON ((7.148578644132444 44.892901303045505...</td>\n      <td>POLYGON ((7.139394599513931 44.89909659443453,...</td>\n      <td>POLYGON ((7.121020596076201 44.91148484285734,...</td>\n      <td>POLYGON ((7.102638703093244 44.92386997565847,...</td>\n      <td>45454;48953</td>\n      <td></td>\n      <td>10540;13926;53576;19954;53578;53449;11100;3991...</td>\n      <td>10540;13926;53576;19954;45454;53578;53449;1110...</td>\n      <td>1</td>\n      <td>1</td>\n      <td>1</td>\n      <td>201</td>\n      <td>201</td>\n      <td>1011</td>\n      <td>1011</td>\n      <td>Angrogna</td>\n      <td>NaN</td>\n      <td>0</td>\n      <td>MULTIPOLYGON (((353807.9578 4972720.5448, 3538...</td>\n    </tr>\n  </tbody>\n</table>\n</div>"
     },
     "execution_count": 56,
     "metadata": {},
     "output_type": "execute_result"
    }
   ],
   "source": [
    "municipalities_df"
   ],
   "metadata": {
    "collapsed": false
   }
  },
  {
   "cell_type": "code",
   "execution_count": 57,
   "metadata": {},
   "outputs": [
    {
     "data": {
      "text/plain": "   idImpianto descCarburante  prezzo  isSelf               dtComu\n0        3464        Benzina   2.242       0  28/03/2023 21:00:05",
      "text/html": "<div>\n<style scoped>\n    .dataframe tbody tr th:only-of-type {\n        vertical-align: middle;\n    }\n\n    .dataframe tbody tr th {\n        vertical-align: top;\n    }\n\n    .dataframe thead th {\n        text-align: right;\n    }\n</style>\n<table border=\"1\" class=\"dataframe\">\n  <thead>\n    <tr style=\"text-align: right;\">\n      <th></th>\n      <th>idImpianto</th>\n      <th>descCarburante</th>\n      <th>prezzo</th>\n      <th>isSelf</th>\n      <th>dtComu</th>\n    </tr>\n  </thead>\n  <tbody>\n    <tr>\n      <th>0</th>\n      <td>3464</td>\n      <td>Benzina</td>\n      <td>2.242</td>\n      <td>0</td>\n      <td>28/03/2023 21:00:05</td>\n    </tr>\n  </tbody>\n</table>\n</div>"
     },
     "execution_count": 57,
     "metadata": {},
     "output_type": "execute_result"
    }
   ],
   "source": [
    "url = \"https://www.mise.gov.it/images/exportCSV/prezzo_alle_8.csv\"\n",
    "df_prezzi = pd.read_csv(url, delimiter=';', skiprows=1)\n",
    "df_prezzi.head(1)"
   ]
  },
  {
   "cell_type": "code",
   "execution_count": 63,
   "outputs": [
    {
     "data": {
      "text/plain": "93091"
     },
     "execution_count": 63,
     "metadata": {},
     "output_type": "execute_result"
    }
   ],
   "source": [
    "df_prezzi.to_sql(\n",
    "    'prezzi',\n",
    "    conn,\n",
    "    if_exists='append',\n",
    "    index=False,\n",
    "    index_label='idImpianto'\n",
    ")"
   ],
   "metadata": {
    "collapsed": false
   }
  },
  {
   "cell_type": "code",
   "execution_count": 3,
   "metadata": {},
   "outputs": [
    {
     "data": {
      "text/html": [
       "<div>\n",
       "<style scoped>\n",
       "    .dataframe tbody tr th:only-of-type {\n",
       "        vertical-align: middle;\n",
       "    }\n",
       "\n",
       "    .dataframe tbody tr th {\n",
       "        vertical-align: top;\n",
       "    }\n",
       "\n",
       "    .dataframe thead th {\n",
       "        text-align: right;\n",
       "    }\n",
       "</style>\n",
       "<table border=\"1\" class=\"dataframe\">\n",
       "  <thead>\n",
       "    <tr style=\"text-align: right;\">\n",
       "      <th></th>\n",
       "      <th>idImpianto</th>\n",
       "      <th>descCarburante</th>\n",
       "      <th>prezzo</th>\n",
       "      <th>isSelf</th>\n",
       "      <th>dtComu</th>\n",
       "    </tr>\n",
       "  </thead>\n",
       "  <tbody>\n",
       "    <tr>\n",
       "      <th>64507</th>\n",
       "      <td>36320</td>\n",
       "      <td>Benzina</td>\n",
       "      <td>1.749</td>\n",
       "      <td>1</td>\n",
       "      <td>15/04/2022 12:05:25</td>\n",
       "    </tr>\n",
       "    <tr>\n",
       "      <th>64508</th>\n",
       "      <td>36320</td>\n",
       "      <td>Gasolio</td>\n",
       "      <td>1.799</td>\n",
       "      <td>1</td>\n",
       "      <td>15/04/2022 12:05:25</td>\n",
       "    </tr>\n",
       "    <tr>\n",
       "      <th>64509</th>\n",
       "      <td>36320</td>\n",
       "      <td>Excellium Diesel</td>\n",
       "      <td>1.799</td>\n",
       "      <td>1</td>\n",
       "      <td>15/04/2022 12:05:25</td>\n",
       "    </tr>\n",
       "  </tbody>\n",
       "</table>\n",
       "</div>"
      ],
      "text/plain": [
       "       idImpianto    descCarburante  prezzo  isSelf               dtComu\n",
       "64507       36320           Benzina   1.749       1  15/04/2022 12:05:25\n",
       "64508       36320           Gasolio   1.799       1  15/04/2022 12:05:25\n",
       "64509       36320  Excellium Diesel   1.799       1  15/04/2022 12:05:25"
      ]
     },
     "execution_count": 3,
     "metadata": {},
     "output_type": "execute_result"
    }
   ],
   "source": [
    "df_prezzi[df_prezzi.idImpianto == 36320]"
   ]
  },
  {
   "cell_type": "code",
   "execution_count": 3,
   "metadata": {},
   "outputs": [],
   "source": [
    "df_prezzi = df_prezzi.loc[:, ['idImpianto', 'descCarburante', 'prezzo']]\n",
    "df_prezzi.columns = ['id', 'gasoline_type','price']"
   ]
  },
  {
   "cell_type": "code",
   "execution_count": 10,
   "metadata": {},
   "outputs": [],
   "source": [
    "url_impianti = \"https://www.mise.gov.it/images/exportCSV/anagrafica_impianti_attivi.csv\"\n",
    "df_impianti = pd.read_csv(url_impianti, delimiter=';', skiprows=1, on_bad_lines='skip')\n",
    "df_impianti.dropna(subset=['Latitudine', 'Longitudine']).reset_index(drop=True, inplace=True)\n"
   ]
  },
  {
   "cell_type": "code",
   "execution_count": 18,
   "outputs": [
    {
     "data": {
      "text/plain": "{'idImpianto': dtype('int64'),\n 'Gestore': dtype('O'),\n 'Bandiera': dtype('O'),\n 'Tipo Impianto': dtype('O'),\n 'Nome Impianto': dtype('O'),\n 'Indirizzo': dtype('O'),\n 'Comune': dtype('O'),\n 'Provincia': dtype('O'),\n 'Latitudine': dtype('float64'),\n 'Longitudine': dtype('float64')}"
     },
     "execution_count": 18,
     "metadata": {},
     "output_type": "execute_result"
    }
   ],
   "source": [
    "df_impianti.dtypes.to_dict()"
   ],
   "metadata": {
    "collapsed": false
   }
  },
  {
   "cell_type": "markdown",
   "source": [
    "\"\"\"\n",
    "CREATE TABLE impianti (\n",
    "  idImpianto INTEGER PRIMARY KEY,\n",
    "  Gestore TEXT,\n",
    "  Bandiera TEXT,\n",
    "  TipoImpianto TEXT,\n",
    "  NomeImpianto TEXT,\n",
    "  Indirizzo TEXT,\n",
    "  Comune TEXT,\n",
    "  Provincia TEXT,\n",
    "  Geometry POINT\n",
    ");\n",
    "\"\"\""
   ],
   "metadata": {
    "collapsed": false
   }
  },
  {
   "cell_type": "code",
   "execution_count": 7,
   "metadata": {},
   "outputs": [],
   "source": [
    "geo_stations = gpd.GeoDataFrame(\n",
    "    df_impianti,\n",
    "    crs='EPSG:4326',\n",
    "    geometry=gpd.points_from_xy(df_impianti.Longitudine, df_impianti.Latitudine)\n",
    ")"
   ]
  },
  {
   "cell_type": "code",
   "execution_count": 8,
   "metadata": {},
   "outputs": [],
   "source": [
    "# Keeping only usefull columns\n",
    "geo_stations = geo_stations.loc[:, ['idImpianto', 'Gestore','Bandiera', 'Nome Impianto','Indirizzo', 'Comune', 'geometry']]\n",
    "\n",
    "## Retriving only valid geometry\n",
    "geo_stations= geo_stations.loc[geo_stations.geometry.is_valid,:]\n",
    "geo_stations.rename(columns={'idImpianto': 'id'}, inplace=True)\n",
    "# geo_stations.to_file('impianti.geojson', driver='GeoJSON')"
   ]
  },
  {
   "cell_type": "code",
   "execution_count": 11,
   "metadata": {},
   "outputs": [],
   "source": [
    "# url = 'https://github.com/napo/geospatial_course_unitn/raw/master/data/istat/istat_administrative_units_generalized_2021.gpkg'\n",
    "# macroregions = gpd.read_file(url,layer=\"macroregions\")\n",
    "# fix, axes= plt.subplots(1,1, figsize=(20,20))\n",
    "\n",
    "# plt.title('Italian Station Available')\n",
    "\n",
    "# macroregions.to_crs(epsg=4326).plot(ax=axes, color='lightblue', edgecolor='black', alpha=0.5)\n",
    "# geo_stations.plot(ax=axes,\n",
    "#                     color='royalblue',\n",
    "#                     markersize= 1.4\n",
    "#                     )\n",
    "\n",
    "# plt.axis('off')\n",
    "# plt.savefig('italian-station.png', dpi=300)\n",
    "# plt.show()"
   ]
  },
  {
   "cell_type": "code",
   "execution_count": 12,
   "metadata": {},
   "outputs": [],
   "source": [
    "#macroregions.to_file('municipalities.geojson', driver='GeoJSON')"
   ]
  },
  {
   "cell_type": "code",
   "execution_count": 13,
   "metadata": {},
   "outputs": [],
   "source": [
    "# url = 'https://github.com/napo/geospatial_course_unitn/raw/master/data/istat/istat_administrative_units_generalized_2021.gpkg'\n",
    "# macroregions = gpd.read_file(url,layer=\"municipalities\")\n",
    "# medo = macroregions.loc[macroregions.COMUNE == 'Bergamo']\n",
    "# area = result['Benzina']['5']['multipolygon']\n",
    "# prices = result['Benzina']['3']['price']"
   ]
  },
  {
   "cell_type": "code",
   "execution_count": 14,
   "metadata": {},
   "outputs": [],
   "source": [
    "# from shapely.geometry.multipolygon import MultiPolygon\n",
    "# from shapely.geometry import Point\n",
    "# from shapely.geometry import shape\n",
    "# Multi = MultiPolygon([shape(area)])\n",
    "# res = []\n",
    "# for stat in prices[0:5]:\n",
    "#     stat['geometry'] = Point(shape(stat['geometry']))\n",
    "#     res.append(stat)\n",
    "\n",
    "# medo_geo = gpd.GeoDataFrame(res)\n",
    "# buffer_medo = gpd.GeoDataFrame({'geometry' :Multi})\n",
    "# medo_geo['color'] =['darkgreen','yellow','red','grey','grey']\n",
    "# fig, axes = plt.subplots(1,1, figsize=(10,10))\n",
    "\n",
    "\n",
    "# buffer_medo.plot(ax=axes)\n",
    "# medo.to_crs(epsg=4326).plot(ax=axes, color='purple')\n",
    "# medo_geo.plot(ax=axes, color=medo_geo.color, markersize=100)\n",
    "\n",
    "# plt.show()"
   ]
  },
  {
   "cell_type": "code",
   "execution_count": 70,
   "outputs": [],
   "source": [
    "from src import utils\n",
    "municipalities: str = \"../data/municipalities.csv.zip\"\n",
    "\n",
    "municipalities_df = (\n",
    "    pd.read_csv(municipalities)\n",
    "    .assign(COMUNE=lambda x: x.COMUNE.apply(utils.remove_punctuations))\n",
    "\n",
    ")\n"
   ],
   "metadata": {
    "collapsed": false
   }
  },
  {
   "cell_type": "code",
   "execution_count": 50,
   "outputs": [],
   "source": [
    "def _get_items( n: int):\n",
    "    for iel in range(n):\n",
    "        yield municipalities_df.iloc[n]\n"
   ],
   "metadata": {
    "collapsed": false
   }
  },
  {
   "cell_type": "code",
   "execution_count": 9,
   "outputs": [
    {
     "data": {
      "text/plain": "{'centroid': '[{\"type\": \"Feature\", \"properties\": {}, \"geometry\": {\"type\": \"Point\", \"coordinates\": [7.77438473328457, 45.365267788755006]}}]',\n 'area_comune': '[{\"type\": \"Feature\", \"properties\": {}, \"geometry\": {\"type\": \"Polygon\", \"coordinates\": [[[7.78266151527247, 45.387173495222605], [7.791060005413259, 45.386299574441196], [7.789702138416172, 45.384682966345366], [7.790383377827611, 45.38328598327818], [7.798943942272907, 45.37653535517868], [7.802820439164142, 45.37493332886603], [7.803009886582581, 45.36739222365562], [7.802660329394741, 45.3659348562973], [7.799108555491469, 45.35787738953757], [7.796344153557448, 45.357267704507855], [7.794790551634668, 45.357228828782105], [7.78793618893645, 45.35912756342468], [7.78604795639173, 45.35906250880695], [7.784650492311996, 45.35813850151106], [7.782855032613747, 45.35613009226], [7.781989125747929, 45.3542395794937], [7.781382996498504, 45.35214481153487], [7.780856170814564, 45.34933077009758], [7.7809887445838815, 45.3466858067108], [7.7812720138372455, 45.34541963519661], [7.781054666697422, 45.34484123029375], [7.777090534846721, 45.34220646437151], [7.775701943595303, 45.34148948029854], [7.7733365107283605, 45.341680133736844], [7.772225369331328, 45.34289237118291], [7.758536488215991, 45.34899130239022], [7.756662522708006, 45.34945700268279], [7.754758251397301, 45.35013834013317], [7.750686010330233, 45.351876132342284], [7.747552471098727, 45.357926700081514], [7.746342223926715, 45.35780541245288], [7.745798841531459, 45.359284655497994], [7.745781741295612, 45.360058595514474], [7.750351207501662, 45.364186275106775], [7.752976341836482, 45.36500709015102], [7.755315838296868, 45.365464666234374], [7.764569422540242, 45.37151050952609], [7.763323432781286, 45.37946766521811], [7.764886805705486, 45.38333712470884], [7.7663848346527375, 45.385522628942496], [7.766905318636533, 45.38567227949293], [7.767704617506306, 45.385518884576925], [7.773956118472214, 45.389195664973876], [7.78266151527247, 45.387173495222605]]]}}]',\n 'buffer_1': '[{\"type\": \"Feature\", \"properties\": {}, \"geometry\": {\"type\": \"Polygon\", \"coordinates\": [[[7.780842785894362, 45.39608210162762], [7.782098252045594, 45.39616504243113], [7.783359209244528, 45.3961603626627], [7.784613365852849, 45.39606810787934], [7.785848496600595, 45.39588917730235], [7.787052561922424, 45.3956253150422], [7.788213825471629, 45.395279093076006], [7.7893209686587745, 45.39485388614522], [7.790363201091609, 45.394353838819626], [7.791330365834012, 45.39378382505049], [7.792213038453496, 45.393149400609786], [7.79300261888891, 45.392456748881536], [7.813349354948974, 45.372673635263375], [7.814050811512177, 45.37191343300983], [7.814640158169559, 45.37110733466133], [7.815111415632469, 45.37026352519566], [7.815459804353564, 45.3693905721414], [7.815681792865733, 45.36849733854232], [7.815775133419993, 45.367592892935726], [7.815738884569189, 45.36668641726022], [7.8155734204777305, 45.36578711362939], [7.8152804268729055, 45.36490411091801], [7.814862883688979, 45.364046372109485], [7.814325034590143, 45.363222603343715], [7.813672343690811, 45.362441165587676], [7.812911439920719, 45.361709989823034], [7.783236442602046, 45.33600043189572], [7.782411658669042, 45.33535220047491], [7.78150191820612, 45.33476322445024], [7.78051574015213, 45.33423901741887], [7.7794623582079945, 45.33378448650043], [7.778351634420601, 45.333403886453226], [7.777193966919438, 45.33310077989478], [7.776000192666597, 45.332878003996804], [7.774781486126207, 45.33273764396446], [7.773549254796524, 45.33268101354657], [7.772315032576405, 45.332708642757495], [7.771090371957523, 45.33282027292532], [7.76988673604439, 45.33301485911167], [7.768715391405728, 45.3332905798812], [7.767587302753204, 45.333644854329364], [7.766513030426907, 45.334074366210324], [7.765502631641383, 45.3345750949407], [7.76456556641185, 45.335142353190406], [7.737011222271468, 45.35351872280514], [7.736143206607762, 45.35415709859897], [7.735368218780444, 45.35485244900921], [7.734693742307511, 45.35559806261967], [7.734126291371306, 45.35638674262152], [7.733671347836378, 45.357210876225075], [7.733333308196341, 45.35806250809513], [7.733115440966869, 45.35893341710312], [7.733019854942306, 45.359815195657234], [7.733047478629596, 45.360699330846224], [7.733198051066004, 45.36157728661461], [7.73347012411767, 45.36244058617625], [7.733861076245357, 45.36328089387105], [7.734367137612739, 45.364090095673255], [7.734983426302634, 45.36486037757355], [7.735703995298488, 45.365584301075856], [7.736521889783363, 45.3662548750785], [7.737429214207773, 45.36686562344259], [7.752320503746376, 45.375943983696786], [7.7536652097444, 45.38634039875613], [7.753833682451843, 45.387191146502396], [7.754116492201086, 45.38802670166063], [7.754511067637725, 45.388839452451215], [7.755013818819925, 45.38962199451569], [7.755620169765646, 45.39036719840161], [7.756324600006219, 45.391068274553064], [7.7571206947724045, 45.39171883521266], [7.758001203359494, 45.39231295266945], [7.758958105142148, 45.39284521331985], [7.75998268263889, 45.39331076704641], [7.761065600960441, 45.39370537146271], [7.762196992916776, 45.39402543061865], [7.763366549004847, 45.39426802781143], [7.764563611453378, 45.39443095220114], [7.780842785894362, 45.39608210162762]]]}}]',\n 'buffer_3': '[{\"type\": \"Feature\", \"properties\": {}, \"geometry\": {\"type\": \"Polygon\", \"coordinates\": [[[7.777203525139583, 45.413899168705], [7.780971099765721, 45.41414808124418], [7.784755171892072, 45.414134050001365], [7.788518819874849, 45.413857211334175], [7.79222532204755, 45.41332026580212], [7.795838516517153, 45.4125284517275], [7.7993231553895015, 45.41148949389444], [7.802645249898753, 45.410213527896396], [7.805772403011767, 45.408713000884354], [7.808674126210572, 45.407002549702284], [7.811322137322388, 45.405098857620246], [7.813690636465458, 45.4030204910867], [7.834034094624594, 45.38323369324906], [7.836137983861482, 45.38095269130131], [7.837905327799112, 45.3785340415392], [7.8393182168206605, 45.37600231326416], [7.840362348115894, 45.37338322120306], [7.841027169241867, 45.37070336391063], [7.841305983333285, 45.36798995332383], [7.841196014972334, 45.36527053823064], [7.840698436135157, 45.362572724472344], [7.839818352041969, 45.35992389472441], [7.838564747145597, 45.35735093070007], [7.836950391895146, 45.35487994058871], [7.83499171130315, 45.35253599448283], [7.832708616722701, 45.35034287046012], [7.803030385888498, 45.32463837579684], [7.800555890817959, 45.32269408724734], [7.79782675264103, 45.32092756809139], [7.794868525032913, 45.319355343855435], [7.791708897621476, 45.31799212108652], [7.788377437169315, 45.31685065025276], [7.784905311508179, 45.315941606919395], [7.781324998780547, 45.31527349229153], [7.777669984669561, 45.31485255403589], [7.773974450401488, 45.31468272810723], [7.770272954383565, 45.31476560211135], [7.766600110394249, 45.31510040054001], [7.7629902652719345, 45.31568399201202], [7.759477179052442, 45.31651091845354], [7.756093710484337, 45.31757344594964], [7.752871510805304, 45.318861636800484], [7.749840728591879, 45.3203634421213], [7.747029728399964, 45.32206481413585], [7.719476240271976, 45.34043700103649], [7.716872161735904, 45.34235171229174], [7.7145469347131925, 45.34443735625628], [7.71252301986228, 45.34667381436091], [7.710819978378569, 45.34903951091806], [7.709454282334154, 45.35151162078979], [7.708439154502912, 45.35406628918373], [7.707784439260999, 45.35667886147688], [7.707496505864238, 45.359324120867385], [7.707578185100537, 45.36197653157439], [7.708028740000246, 45.36461048524827], [7.708843870962561, 45.36720054821717], [7.710015755325163, 45.369721707182805], [7.7115331210699765, 45.37214961098797], [7.713381354023784, 45.37446080611124], [7.7155426375817004, 45.37663296360024], [7.717996123657764, 45.378645095233196], [7.720718133253488, 45.380477756799685], [7.7278169849261396, 45.384806917821344], [7.728224951569658, 45.38797167578009], [7.728729249326466, 45.390524017659466], [7.7295766354459765, 45.393030854515736], [7.730759433816954, 45.395469344789724], [7.732266908387901, 45.39781726676384], [7.734085359577637, 45.400053221330296], [7.736198247901002, 45.40215682735284], [7.738586343726197, 45.40410890782621], [7.741227901832613, 45.40589166511952], [7.744098859201402, 45.407488843686494], [7.74717305424773, 45.40888587873897], [7.750422465496394, 45.410070029507494], [7.7538174675133, 45.41103049585327], [7.757327101736697, 45.41175851714922], [7.76091935970564, 45.41224745251078], [7.777203525139583, 45.413899168705]]]}}]',\n 'buffer_5': '[{\"type\": \"Feature\", \"properties\": {}, \"geometry\": {\"type\": \"Polygon\", \"coordinates\": [[[7.703617916432968, 45.3938307067398], [7.703621983351605, 45.39385133531605], [7.705032553841825, 45.39802968168332], [7.7070023363835345, 45.40209422808831], [7.70951349397071, 45.4060079239622], [7.712543241384584, 45.409735086225], [7.716064049500006, 45.41324172553805], [7.720043893533999, 45.416495857325145], [7.72444654306813, 45.41946779467852], [7.729231891265716, 45.42213042042467], [7.734356320315546, 45.424459435811215], [7.7397730997702086, 45.426433583488354], [7.745432814113906, 45.42803484269343], [7.751283815596071, 45.429248594803724], [7.757272698107243, 45.430063757697646], [7.7735618590053885, 45.431716041293456], [7.779843112144835, 45.43213104590124], [7.786151901792209, 45.432107673924484], [7.792426613828453, 45.431646152104356], [7.7986059688911995, 45.430750986216296], [7.804629625027758, 45.42943091681467], [7.810438770888224, 45.427698833338724], [7.8159767034727645, 45.425571647445246], [7.821189384618659, 45.42307012684496], [7.826025970648278, 45.42021869131625], [7.830439309895245, 45.41704517294803], [7.834386403178313, 45.41358054301966], [7.8547265735605345, 45.3937900608091], [7.858232252971935, 45.38998773232859], [7.861176664238979, 45.38595605848897], [7.863530005255106, 45.38173601206208], [7.865268497880905, 45.37737047113307], [7.86637462477083, 45.37290378228866], [7.866837301873246, 45.368381309243844], [7.8666519850701135, 45.363848971537216], [7.865820710113047, 45.35935277800887], [7.86435206570173, 45.354938359810994], [7.862261100231105, 45.35065050768815], [7.859569163398863, 45.34653271820319], [7.856303684507614, 45.34262675347732], [7.852497889911634, 45.33897221886059], [7.822816438100706, 45.313272786499745], [7.818692042367579, 45.3100329815609], [7.814143618562742, 45.307089464137555], [7.809213750814288, 45.30446975137351], [7.803948569320776, 45.30219832954295], [7.798397319710027, 45.30029642646733], [7.79261190413846, 45.29878181432827], [7.786646398343701, 45.29766864466408], [7.7805565490577075, 45.29696731704199], [7.7743992563454265, 45.29668438259214], [7.768232045553991, 45.296822483272386], [7.762112533639793, 45.297380327410266], [7.75609789468473, 45.29835270174039], [7.7502443294189165, 45.299730519827094], [7.744606543534702, 45.3015009064331], [7.739237239506386, 45.303647317071096], [7.734186626521735, 45.30614969165597], [7.729501952985489, 45.308984640866456], [7.701949328095929, 45.32735264720292], [7.697609146017169, 45.330543139364124], [7.693733330104939, 45.33401853396602], [7.690359331484676, 45.3377453261701], [7.687519783069643, 45.34168758105594], [7.685242182284475, 45.34580727878946], [7.683548622428236, 45.350064680098576], [7.682455575390445, 45.35441870858983], [7.6819737279695195, 45.35882734626683], [7.682107873551791, 45.36324803847329], [7.682856860394057, 45.36763810437988], [7.6842135972180925, 45.371955149065954], [7.686165116276053, 45.37615747321831], [7.688692693486481, 45.3802044764767], [7.691772024677258, 45.38405705050355], [7.69537345640996, 45.38767795794162], [7.699462269306214, 45.39103219354762], [7.703617916432968, 45.3938307067398]]]}}]',\n 'stationsId_one': '11874;51630;52787;45515;35308',\n 'stationsId_three': '33120;32042;39964;22530;11889',\n 'stationsId_five': '40737;49699;11877;45832;6932;25285;41941;39775;50705;29812;15025',\n 'all_stations': '11874;51630;33120;32042;40737;52787;39964;49699;22530;11877;45515;35308;11889;45832;6932;25285;41941;39775;50705;29812;15025',\n 'COD_RIP': 1,\n 'COD_REG': 1,\n 'COD_PROV': 1,\n 'COD_CM': 201,\n 'COD_UTS': 201,\n 'PRO_COM': 1001,\n 'PRO_COM_T': 1001,\n 'COMUNE': 'Agliè',\n 'COMUNE_A': nan,\n 'CC_UTS': 0,\n 'geometry': 'MULTIPOLYGON (((404703.55819999985 5026682.6546, 405359.55429999996 5026575.6557, 405250.5544999996 5026397.6570999995, 405301.5532999998 5026241.6581, 405960.5499999998 5025481.6634, 406003.54959999956 5025449.663699999, 406075.54849999957 5025405.6647, 406261.4216 5025299.1655, 406264.3914000001 5024543.1724, 406264.2971999999 5024529.6721, 406263.79750000034 5024461.1711, 406234.01570000034 5024299.6731, 405942.5179000003 5023408.6789, 405724.98929999955 5023344.1796, 405617.9902999997 5023339.6800999995, 405603.24069999997 5023341.681, 405164.3678000001 5023522.6798, 405069.5563000003 5023560.677999999, 404921.55869999994 5023555.6789, 404810.5580000002 5023454.678400001, 404754.55989999976 5023385.6798, 404666.56010000035 5023233.680400001, 404595.56060000043 5023024.681399999, 404544.56180000026 5022792.683700001, 404514.5608999999 5022600.6851, 404498.5619999999 5022480.6855, 404504.49909999967 5022186.689099999, 404524.56120000035 5022045.6894000005, 404506.56159999967 5021981.6899, 404191.56319999974 5021693.692, 404081.56379999965 5021615.692399999, 403896.5652999999 5021639.6927000005, 403815.56549999956 5021770.692, 403811.56570000015 5021775.691199999, 402749.57469999976 5022469.6853, 402603.5761000002 5022523.6866, 402455.57639999967 5022601.684, 402151.5776000004 5022788.6833999995, 402139.5784 5022799.6831, 402127.57930000033 5022822.684, 401937.5795 5023370.6796, 401904.58019999973 5023475.6777, 401809.5804000003 5023463.6786, 401787.5806999998 5023553.677300001, 401769.58100000024 5023628.6765, 401765.58139999956 5023670.6766, 401769.58110000007 5023714.6775, 402134.5789999999 5024167.6734, 402341.5767999999 5024255.6733, 402525.5758999996 5024303.672, 403260.5546000004 5024964.1677, 403260.9764999999 5024978.667400001, 403259.5695000002 5025010.667199999, 403231.72699999996 5025296.918099999, 403206.8195000002 5025548.6624, 403192.18740000017 5025694.804, 403176.5705000004 5025849.661, 403223.05069999956 5026013.4618999995, 403249.56900000013 5026104.659700001, 403275.57019999996 5026186.6589, 403305.5689000003 5026277.657, 403384.25650000013 5026440.656099999, 403410.9746000003 5026491.657199999, 403426.56799999997 5026518.6558, 403453.5685999999 5026532.6558, 403467.5686999997 5026534.6567, 403481.5686999997 5026532.6558, 403504.5674999999 5026525.6557, 403529.88049999997 5026516.6569, 404025.50090000033 5026917.6524, 404703.55819999985 5026682.6546)))'}"
     },
     "execution_count": 9,
     "metadata": {},
     "output_type": "execute_result"
    }
   ],
   "source": [
    "municipalities_df.iloc[0].to_dict()"
   ],
   "metadata": {
    "collapsed": false
   }
  },
  {
   "cell_type": "code",
   "execution_count": 46,
   "outputs": [],
   "source": [
    "m = _get_items(10)"
   ],
   "metadata": {
    "collapsed": false
   }
  },
  {
   "cell_type": "code",
   "execution_count": 56,
   "outputs": [
    {
     "name": "stdout",
     "output_type": "stream",
     "text": [
      "centroid            [{\"type\": \"Feature\", \"properties\": {}, \"geomet...\n",
      "area_comune         [{\"type\": \"Feature\", \"properties\": {}, \"geomet...\n",
      "buffer_1            [{\"type\": \"Feature\", \"properties\": {}, \"geomet...\n",
      "buffer_3            [{\"type\": \"Feature\", \"properties\": {}, \"geomet...\n",
      "buffer_5            [{\"type\": \"Feature\", \"properties\": {}, \"geomet...\n",
      "stationsId_one                                                      ;\n",
      "stationsId_three                                    50324;32456;47312\n",
      "stationsId_five     6794;43325;47145;37603;11888;37172;51095;37910...\n",
      "all_stations        50324;6794;43325;32456;47312;47145;37603;11888...\n",
      "COD_RIP                                                             1\n",
      "COD_REG                                                             1\n",
      "COD_PROV                                                            1\n",
      "COD_CM                                                            201\n",
      "COD_UTS                                                           201\n",
      "PRO_COM                                                          1012\n",
      "PRO_COM_T                                                        1012\n",
      "COMUNE                                                       arignano\n",
      "COMUNE_A                                                          NaN\n",
      "CC_UTS                                                              0\n",
      "geometry            MULTIPOLYGON (((413545.5007999996 4990368.9298...\n",
      "Name: 10, dtype: object\n"
     ]
    }
   ],
   "source": [
    "for i in m:\n",
    "    print(i)\n",
    "    break\n"
   ],
   "metadata": {
    "collapsed": false
   }
  },
  {
   "cell_type": "code",
   "execution_count": 57,
   "outputs": [
    {
     "data": {
      "text/plain": "{'', '32456', '47312', '50324'}"
     },
     "execution_count": 57,
     "metadata": {},
     "output_type": "execute_result"
    }
   ],
   "source": [
    "set(i.stationsId_one.split(\";\")) set(i.stationsId_three.split(\";\"))\n"
   ],
   "metadata": {
    "collapsed": false
   }
  },
  {
   "cell_type": "code",
   "execution_count": 61,
   "outputs": [
    {
     "data": {
      "text/plain": "set()"
     },
     "execution_count": 61,
     "metadata": {},
     "output_type": "execute_result"
    }
   ],
   "source": [
    "set(i.stationsId_one.split(\";\")).intersection(set(i.stationsId_three.split(\";\")))"
   ],
   "metadata": {
    "collapsed": false
   }
  },
  {
   "cell_type": "code",
   "execution_count": 77,
   "outputs": [
    {
     "name": "stdout",
     "output_type": "stream",
     "text": [
      "{'46031', '16552', '50176', '54900', '4644', '36320', '11306', '54373', '11253', '48550', '54369', '25303', '51452', '33398', '50286', '26246', '25733', '43387', '36373', '39057', '38229', '15311', '11431', '15828'}\n"
     ]
    }
   ],
   "source": [
    "print(set(municipalities_df.loc[municipalities_df.COMUNE == 'medolago'].all_stations.values[0].split(\";\")))\n"
   ],
   "metadata": {
    "collapsed": false
   }
  }
 ],
 "metadata": {
  "interpreter": {
   "hash": "c27e4d448bea9d7f33ced151ac136149fed1d463af6fdffa23d4cea135965979"
  },
  "kernelspec": {
   "display_name": "Python 3.9.4 64-bit ('geo': venv)",
   "name": "python3"
  },
  "language_info": {
   "codemirror_mode": {
    "name": "ipython",
    "version": 3
   },
   "file_extension": ".py",
   "mimetype": "text/x-python",
   "name": "python",
   "nbconvert_exporter": "python",
   "pygments_lexer": "ipython3",
   "version": "3.9.4"
  },
  "orig_nbformat": 4
 },
 "nbformat": 4,
 "nbformat_minor": 2
}
