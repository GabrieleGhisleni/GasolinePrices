{
 "cells": [
  {
   "cell_type": "code",
   "execution_count": 1,
   "metadata": {},
   "outputs": [],
   "source": [
    "# import matplotlib.pyplot as plt\n",
    "import geopandas as gpd\n",
    "import pandas as pd\n",
    "import numpy as np\n",
    "import requests"
   ]
  },
  {
   "cell_type": "code",
   "execution_count": 2,
   "metadata": {},
   "outputs": [
    {
     "data": {
      "text/plain": "   idImpianto descCarburante  prezzo  isSelf               dtComu\n0        6492    Hi-Q Diesel   1.644       1  28/11/2022 00:33:00",
      "text/html": "<div>\n<style scoped>\n    .dataframe tbody tr th:only-of-type {\n        vertical-align: middle;\n    }\n\n    .dataframe tbody tr th {\n        vertical-align: top;\n    }\n\n    .dataframe thead th {\n        text-align: right;\n    }\n</style>\n<table border=\"1\" class=\"dataframe\">\n  <thead>\n    <tr style=\"text-align: right;\">\n      <th></th>\n      <th>idImpianto</th>\n      <th>descCarburante</th>\n      <th>prezzo</th>\n      <th>isSelf</th>\n      <th>dtComu</th>\n    </tr>\n  </thead>\n  <tbody>\n    <tr>\n      <th>0</th>\n      <td>6492</td>\n      <td>Hi-Q Diesel</td>\n      <td>1.644</td>\n      <td>1</td>\n      <td>28/11/2022 00:33:00</td>\n    </tr>\n  </tbody>\n</table>\n</div>"
     },
     "execution_count": 2,
     "metadata": {},
     "output_type": "execute_result"
    }
   ],
   "source": [
    "url = \"https://www.mise.gov.it/images/exportCSV/prezzo_alle_8.csv\"\n",
    "df_prezzi = pd.read_csv(url, delimiter=';', skiprows=1)\n",
    "df_prezzi.head(1)"
   ]
  },
  {
   "cell_type": "code",
   "execution_count": 3,
   "metadata": {},
   "outputs": [
    {
     "data": {
      "text/html": [
       "<div>\n",
       "<style scoped>\n",
       "    .dataframe tbody tr th:only-of-type {\n",
       "        vertical-align: middle;\n",
       "    }\n",
       "\n",
       "    .dataframe tbody tr th {\n",
       "        vertical-align: top;\n",
       "    }\n",
       "\n",
       "    .dataframe thead th {\n",
       "        text-align: right;\n",
       "    }\n",
       "</style>\n",
       "<table border=\"1\" class=\"dataframe\">\n",
       "  <thead>\n",
       "    <tr style=\"text-align: right;\">\n",
       "      <th></th>\n",
       "      <th>idImpianto</th>\n",
       "      <th>descCarburante</th>\n",
       "      <th>prezzo</th>\n",
       "      <th>isSelf</th>\n",
       "      <th>dtComu</th>\n",
       "    </tr>\n",
       "  </thead>\n",
       "  <tbody>\n",
       "    <tr>\n",
       "      <th>64507</th>\n",
       "      <td>36320</td>\n",
       "      <td>Benzina</td>\n",
       "      <td>1.749</td>\n",
       "      <td>1</td>\n",
       "      <td>15/04/2022 12:05:25</td>\n",
       "    </tr>\n",
       "    <tr>\n",
       "      <th>64508</th>\n",
       "      <td>36320</td>\n",
       "      <td>Gasolio</td>\n",
       "      <td>1.799</td>\n",
       "      <td>1</td>\n",
       "      <td>15/04/2022 12:05:25</td>\n",
       "    </tr>\n",
       "    <tr>\n",
       "      <th>64509</th>\n",
       "      <td>36320</td>\n",
       "      <td>Excellium Diesel</td>\n",
       "      <td>1.799</td>\n",
       "      <td>1</td>\n",
       "      <td>15/04/2022 12:05:25</td>\n",
       "    </tr>\n",
       "  </tbody>\n",
       "</table>\n",
       "</div>"
      ],
      "text/plain": [
       "       idImpianto    descCarburante  prezzo  isSelf               dtComu\n",
       "64507       36320           Benzina   1.749       1  15/04/2022 12:05:25\n",
       "64508       36320           Gasolio   1.799       1  15/04/2022 12:05:25\n",
       "64509       36320  Excellium Diesel   1.799       1  15/04/2022 12:05:25"
      ]
     },
     "execution_count": 3,
     "metadata": {},
     "output_type": "execute_result"
    }
   ],
   "source": [
    "df_prezzi[df_prezzi.idImpianto == 36320]"
   ]
  },
  {
   "cell_type": "code",
   "execution_count": 5,
   "metadata": {},
   "outputs": [],
   "source": [
    "df_prezzi = df_prezzi.loc[:, ['idImpianto', 'descCarburante', 'prezzo']]\n",
    "df_prezzi.columns = ['id', 'gasoline_type','price']"
   ]
  },
  {
   "cell_type": "code",
   "execution_count": 6,
   "metadata": {},
   "outputs": [],
   "source": [
    "url_impianti = \"https://www.mise.gov.it/images/exportCSV/anagrafica_impianti_attivi.csv\"\n",
    "df_impianti = pd.read_csv(url_impianti, delimiter=';', skiprows=1, on_bad_lines='skip')\n",
    "df_impianti.dropna(subset=['Latitudine', 'Longitudine']).reset_index(drop=True, inplace=True)\n"
   ]
  },
  {
   "cell_type": "code",
   "execution_count": 7,
   "metadata": {},
   "outputs": [],
   "source": [
    "geo_stations = gpd.GeoDataFrame(\n",
    "    df_impianti,\n",
    "    crs='EPSG:4326',\n",
    "    geometry=gpd.points_from_xy(df_impianti.Longitudine, df_impianti.Latitudine)\n",
    ")"
   ]
  },
  {
   "cell_type": "code",
   "execution_count": 8,
   "metadata": {},
   "outputs": [],
   "source": [
    "# Keeping only usefull columns\n",
    "geo_stations = geo_stations.loc[:, ['idImpianto', 'Gestore','Bandiera', 'Nome Impianto','Indirizzo', 'Comune', 'geometry']]\n",
    "\n",
    "## Retriving only valid geometry\n",
    "geo_stations= geo_stations.loc[geo_stations.geometry.is_valid,:]\n",
    "geo_stations.rename(columns={'idImpianto': 'id'}, inplace=True)\n",
    "# geo_stations.to_file('impianti.geojson', driver='GeoJSON')"
   ]
  },
  {
   "cell_type": "code",
   "execution_count": 11,
   "metadata": {},
   "outputs": [],
   "source": [
    "# url = 'https://github.com/napo/geospatial_course_unitn/raw/master/data/istat/istat_administrative_units_generalized_2021.gpkg'\n",
    "# macroregions = gpd.read_file(url,layer=\"macroregions\")\n",
    "# fix, axes= plt.subplots(1,1, figsize=(20,20))\n",
    "\n",
    "# plt.title('Italian Station Available')\n",
    "\n",
    "# macroregions.to_crs(epsg=4326).plot(ax=axes, color='lightblue', edgecolor='black', alpha=0.5)\n",
    "# geo_stations.plot(ax=axes,\n",
    "#                     color='royalblue',\n",
    "#                     markersize= 1.4\n",
    "#                     )\n",
    "\n",
    "# plt.axis('off')\n",
    "# plt.savefig('italian-station.png', dpi=300)\n",
    "# plt.show()"
   ]
  },
  {
   "cell_type": "code",
   "execution_count": 12,
   "metadata": {},
   "outputs": [],
   "source": [
    "#macroregions.to_file('municipalities.geojson', driver='GeoJSON')"
   ]
  },
  {
   "cell_type": "code",
   "execution_count": 13,
   "metadata": {},
   "outputs": [],
   "source": [
    "# url = 'https://github.com/napo/geospatial_course_unitn/raw/master/data/istat/istat_administrative_units_generalized_2021.gpkg'\n",
    "# macroregions = gpd.read_file(url,layer=\"municipalities\")\n",
    "# medo = macroregions.loc[macroregions.COMUNE == 'Bergamo']\n",
    "# area = result['Benzina']['5']['multipolygon']\n",
    "# prices = result['Benzina']['3']['price']"
   ]
  },
  {
   "cell_type": "code",
   "execution_count": 14,
   "metadata": {},
   "outputs": [],
   "source": [
    "# from shapely.geometry.multipolygon import MultiPolygon\n",
    "# from shapely.geometry import Point\n",
    "# from shapely.geometry import shape\n",
    "# Multi = MultiPolygon([shape(area)])\n",
    "# res = []\n",
    "# for stat in prices[0:5]:\n",
    "#     stat['geometry'] = Point(shape(stat['geometry']))\n",
    "#     res.append(stat)\n",
    "\n",
    "# medo_geo = gpd.GeoDataFrame(res)\n",
    "# buffer_medo = gpd.GeoDataFrame({'geometry' :Multi})\n",
    "# medo_geo['color'] =['darkgreen','yellow','red','grey','grey']\n",
    "# fig, axes = plt.subplots(1,1, figsize=(10,10))\n",
    "\n",
    "\n",
    "# buffer_medo.plot(ax=axes)\n",
    "# medo.to_crs(epsg=4326).plot(ax=axes, color='purple')\n",
    "# medo_geo.plot(ax=axes, color=medo_geo.color, markersize=100)\n",
    "\n",
    "# plt.show()"
   ]
  },
  {
   "cell_type": "code",
   "execution_count": 70,
   "outputs": [],
   "source": [
    "from src import utils\n",
    "municipalities: str = \"../data/municipalities.csv.zip\"\n",
    "\n",
    "municipalities_df = (\n",
    "    pd.read_csv(municipalities)\n",
    "    .assign(COMUNE=lambda x: x.COMUNE.apply(utils.remove_punctuations))\n",
    "\n",
    ")\n"
   ],
   "metadata": {
    "collapsed": false
   }
  },
  {
   "cell_type": "code",
   "execution_count": 50,
   "outputs": [],
   "source": [
    "def _get_items( n: int):\n",
    "    for iel in range(n):\n",
    "        yield municipalities_df.iloc[n]\n"
   ],
   "metadata": {
    "collapsed": false
   }
  },
  {
   "cell_type": "code",
   "execution_count": 51,
   "outputs": [
    {
     "data": {
      "text/plain": "                                              centroid  \\\n0    [{\"type\": \"Feature\", \"properties\": {}, \"geomet...   \n1    [{\"type\": \"Feature\", \"properties\": {}, \"geomet...   \n2    [{\"type\": \"Feature\", \"properties\": {}, \"geomet...   \n3    [{\"type\": \"Feature\", \"properties\": {}, \"geomet...   \n4    [{\"type\": \"Feature\", \"properties\": {}, \"geomet...   \n..                                                 ...   \n398  [{\"type\": \"Feature\", \"properties\": {}, \"geomet...   \n399  [{\"type\": \"Feature\", \"properties\": {}, \"geomet...   \n400  [{\"type\": \"Feature\", \"properties\": {}, \"geomet...   \n401  [{\"type\": \"Feature\", \"properties\": {}, \"geomet...   \n402  [{\"type\": \"Feature\", \"properties\": {}, \"geomet...   \n\n                                           area_comune  \\\n0    [{\"type\": \"Feature\", \"properties\": {}, \"geomet...   \n1    [{\"type\": \"Feature\", \"properties\": {}, \"geomet...   \n2    [{\"type\": \"Feature\", \"properties\": {}, \"geomet...   \n3    [{\"type\": \"Feature\", \"properties\": {}, \"geomet...   \n4    [{\"type\": \"Feature\", \"properties\": {}, \"geomet...   \n..                                                 ...   \n398  [{\"type\": \"Feature\", \"properties\": {}, \"geomet...   \n399  [{\"type\": \"Feature\", \"properties\": {}, \"geomet...   \n400  [{\"type\": \"Feature\", \"properties\": {}, \"geomet...   \n401  [{\"type\": \"Feature\", \"properties\": {}, \"geomet...   \n402  [{\"type\": \"Feature\", \"properties\": {}, \"geomet...   \n\n                                              buffer_1  \\\n0    [{\"type\": \"Feature\", \"properties\": {}, \"geomet...   \n1    [{\"type\": \"Feature\", \"properties\": {}, \"geomet...   \n2    [{\"type\": \"Feature\", \"properties\": {}, \"geomet...   \n3    [{\"type\": \"Feature\", \"properties\": {}, \"geomet...   \n4    [{\"type\": \"Feature\", \"properties\": {}, \"geomet...   \n..                                                 ...   \n398  [{\"type\": \"Feature\", \"properties\": {}, \"geomet...   \n399  [{\"type\": \"Feature\", \"properties\": {}, \"geomet...   \n400  [{\"type\": \"Feature\", \"properties\": {}, \"geomet...   \n401  [{\"type\": \"Feature\", \"properties\": {}, \"geomet...   \n402  [{\"type\": \"Feature\", \"properties\": {}, \"geomet...   \n\n                                              buffer_3  \\\n0    [{\"type\": \"Feature\", \"properties\": {}, \"geomet...   \n1    [{\"type\": \"Feature\", \"properties\": {}, \"geomet...   \n2    [{\"type\": \"Feature\", \"properties\": {}, \"geomet...   \n3    [{\"type\": \"Feature\", \"properties\": {}, \"geomet...   \n4    [{\"type\": \"Feature\", \"properties\": {}, \"geomet...   \n..                                                 ...   \n398  [{\"type\": \"Feature\", \"properties\": {}, \"geomet...   \n399  [{\"type\": \"Feature\", \"properties\": {}, \"geomet...   \n400  [{\"type\": \"Feature\", \"properties\": {}, \"geomet...   \n401  [{\"type\": \"Feature\", \"properties\": {}, \"geomet...   \n402  [{\"type\": \"Feature\", \"properties\": {}, \"geomet...   \n\n                                              buffer_5  \\\n0    [{\"type\": \"Feature\", \"properties\": {}, \"geomet...   \n1    [{\"type\": \"Feature\", \"properties\": {}, \"geomet...   \n2    [{\"type\": \"Feature\", \"properties\": {}, \"geomet...   \n3    [{\"type\": \"Feature\", \"properties\": {}, \"geomet...   \n4    [{\"type\": \"Feature\", \"properties\": {}, \"geomet...   \n..                                                 ...   \n398  [{\"type\": \"Feature\", \"properties\": {}, \"geomet...   \n399  [{\"type\": \"Feature\", \"properties\": {}, \"geomet...   \n400  [{\"type\": \"Feature\", \"properties\": {}, \"geomet...   \n401  [{\"type\": \"Feature\", \"properties\": {}, \"geomet...   \n402  [{\"type\": \"Feature\", \"properties\": {}, \"geomet...   \n\n                    stationsId_one                           stationsId_three  \\\n0    11874;51630;52787;45515;35308              33120;32042;39964;22530;11889   \n1                 9902;17525;53077                3743;3844;30968;54247;13819   \n2                                ;                                          ;   \n3                      52112;40943                6228;5702;25209;47815;34549   \n4           47816;6389;54189;42563     44444;44735;9505;11859;8005;6395;47210   \n..                             ...                                        ...   \n398                              ;                          51385;13608;45627   \n399   52749;30044;41511;47331;9226  44915;45627;45637;22500;39209;20076;46045   \n400              40401;52241;38680                                          ;   \n401                          51115  29422;11745;51377;31441;33169;51824;25502   \n402                          47154                    49672;41123;40495;39421   \n\n                                       stationsId_five  \\\n0    40737;49699;11877;45832;6932;25285;41941;39775...   \n1                  20694;42063;34826;45516;33813;50539   \n2                                                29319   \n3    54308;42893;48734;39635;39568;53886;54295;1541...   \n4    7872;43114;32022;44380;18604;30893;42857;11868...   \n..                                                 ...   \n398                             54457;8278;51418;39421   \n399                         9743;9744;21956;13608;7787   \n400                      44557;17453;31509;32432;52978   \n401  47652;49672;11750;7244;16377;49148;35221;6422;...   \n402  38920;9546;29422;51377;7244;16377;49148;31441;...   \n\n                                          all_stations  COD_RIP  COD_REG  \\\n0    33120;32042;40737;39964;49699;22530;11877;1188...        1        1   \n1    20694;42063;34826;45516;33813;50539;3743;3844;...        1        1   \n2                                                29319        1        1   \n3    54308;42893;6228;5702;48734;39635;25209;39568;...        1        1   \n4    7872;43114;44444;44735;9505;32022;11859;44380;...        1        1   \n..                                                 ...      ...      ...   \n398           51385;54457;8278;51418;13608;45627;39421        1        1   \n399  9743;9744;44915;21956;13608;45627;45637;22500;...        1        1   \n400                      44557;17453;31509;32432;52978        1        1   \n401  29422;47652;49672;11750;11745;51377;7244;16377...        1        1   \n402  38920;9546;29422;49672;51377;7244;16377;49148;...        1        1   \n\n     COD_PROV  COD_CM  COD_UTS  PRO_COM  PRO_COM_T               COMUNE  \\\n0           1     201      201     1001       1001                aglie   \n1           1     201      201     1002       1002              airasca   \n2           1     201      201     1003       1003         ala-di-stura   \n3           1     201      201     1004       1004       albiano-divrea   \n4           1     201      201     1006       1006               almese   \n..        ...     ...      ...      ...        ...                  ...   \n398         3       0        3     3012       3012              barengo   \n399         3       0        3     3016       3016  bellinzago-novarese   \n400         3       0        3     3018       3018            biandrate   \n401         3       0        3     3019       3019                 boca   \n402         3       0        3     3021       3021              bogogno   \n\n     COMUNE_A  CC_UTS                                           geometry  \n0         NaN       0  MULTIPOLYGON (((404703.55819999985 5026682.654...  \n1         NaN       0  MULTIPOLYGON (((380700.9090999998 4977305.5200...  \n2         NaN       0  MULTIPOLYGON (((364710.85699999984 5022090.677...  \n3         NaN       0  MULTIPOLYGON (((415942.5039999997 5033304.6089...  \n4         NaN       0  MULTIPOLYGON (((376934.96169999987 4999073.853...  \n..        ...     ...                                                ...  \n398       NaN       0  MULTIPOLYGON (((463750.5554999998 5049455.4955...  \n399       NaN       0  MULTIPOLYGON (((476111.33380000014 5047065.006...  \n400       NaN       0  MULTIPOLYGON (((456987.29360000044 5035042.101...  \n401       NaN       0  MULTIPOLYGON (((453399.97279999964 5060531.412...  \n402       NaN       0  MULTIPOLYGON (((463701.3661000002 5058639.9273...  \n\n[403 rows x 20 columns]",
      "text/html": "<div>\n<style scoped>\n    .dataframe tbody tr th:only-of-type {\n        vertical-align: middle;\n    }\n\n    .dataframe tbody tr th {\n        vertical-align: top;\n    }\n\n    .dataframe thead th {\n        text-align: right;\n    }\n</style>\n<table border=\"1\" class=\"dataframe\">\n  <thead>\n    <tr style=\"text-align: right;\">\n      <th></th>\n      <th>centroid</th>\n      <th>area_comune</th>\n      <th>buffer_1</th>\n      <th>buffer_3</th>\n      <th>buffer_5</th>\n      <th>stationsId_one</th>\n      <th>stationsId_three</th>\n      <th>stationsId_five</th>\n      <th>all_stations</th>\n      <th>COD_RIP</th>\n      <th>COD_REG</th>\n      <th>COD_PROV</th>\n      <th>COD_CM</th>\n      <th>COD_UTS</th>\n      <th>PRO_COM</th>\n      <th>PRO_COM_T</th>\n      <th>COMUNE</th>\n      <th>COMUNE_A</th>\n      <th>CC_UTS</th>\n      <th>geometry</th>\n    </tr>\n  </thead>\n  <tbody>\n    <tr>\n      <th>0</th>\n      <td>[{\"type\": \"Feature\", \"properties\": {}, \"geomet...</td>\n      <td>[{\"type\": \"Feature\", \"properties\": {}, \"geomet...</td>\n      <td>[{\"type\": \"Feature\", \"properties\": {}, \"geomet...</td>\n      <td>[{\"type\": \"Feature\", \"properties\": {}, \"geomet...</td>\n      <td>[{\"type\": \"Feature\", \"properties\": {}, \"geomet...</td>\n      <td>11874;51630;52787;45515;35308</td>\n      <td>33120;32042;39964;22530;11889</td>\n      <td>40737;49699;11877;45832;6932;25285;41941;39775...</td>\n      <td>33120;32042;40737;39964;49699;22530;11877;1188...</td>\n      <td>1</td>\n      <td>1</td>\n      <td>1</td>\n      <td>201</td>\n      <td>201</td>\n      <td>1001</td>\n      <td>1001</td>\n      <td>aglie</td>\n      <td>NaN</td>\n      <td>0</td>\n      <td>MULTIPOLYGON (((404703.55819999985 5026682.654...</td>\n    </tr>\n    <tr>\n      <th>1</th>\n      <td>[{\"type\": \"Feature\", \"properties\": {}, \"geomet...</td>\n      <td>[{\"type\": \"Feature\", \"properties\": {}, \"geomet...</td>\n      <td>[{\"type\": \"Feature\", \"properties\": {}, \"geomet...</td>\n      <td>[{\"type\": \"Feature\", \"properties\": {}, \"geomet...</td>\n      <td>[{\"type\": \"Feature\", \"properties\": {}, \"geomet...</td>\n      <td>9902;17525;53077</td>\n      <td>3743;3844;30968;54247;13819</td>\n      <td>20694;42063;34826;45516;33813;50539</td>\n      <td>20694;42063;34826;45516;33813;50539;3743;3844;...</td>\n      <td>1</td>\n      <td>1</td>\n      <td>1</td>\n      <td>201</td>\n      <td>201</td>\n      <td>1002</td>\n      <td>1002</td>\n      <td>airasca</td>\n      <td>NaN</td>\n      <td>0</td>\n      <td>MULTIPOLYGON (((380700.9090999998 4977305.5200...</td>\n    </tr>\n    <tr>\n      <th>2</th>\n      <td>[{\"type\": \"Feature\", \"properties\": {}, \"geomet...</td>\n      <td>[{\"type\": \"Feature\", \"properties\": {}, \"geomet...</td>\n      <td>[{\"type\": \"Feature\", \"properties\": {}, \"geomet...</td>\n      <td>[{\"type\": \"Feature\", \"properties\": {}, \"geomet...</td>\n      <td>[{\"type\": \"Feature\", \"properties\": {}, \"geomet...</td>\n      <td>;</td>\n      <td>;</td>\n      <td>29319</td>\n      <td>29319</td>\n      <td>1</td>\n      <td>1</td>\n      <td>1</td>\n      <td>201</td>\n      <td>201</td>\n      <td>1003</td>\n      <td>1003</td>\n      <td>ala-di-stura</td>\n      <td>NaN</td>\n      <td>0</td>\n      <td>MULTIPOLYGON (((364710.85699999984 5022090.677...</td>\n    </tr>\n    <tr>\n      <th>3</th>\n      <td>[{\"type\": \"Feature\", \"properties\": {}, \"geomet...</td>\n      <td>[{\"type\": \"Feature\", \"properties\": {}, \"geomet...</td>\n      <td>[{\"type\": \"Feature\", \"properties\": {}, \"geomet...</td>\n      <td>[{\"type\": \"Feature\", \"properties\": {}, \"geomet...</td>\n      <td>[{\"type\": \"Feature\", \"properties\": {}, \"geomet...</td>\n      <td>52112;40943</td>\n      <td>6228;5702;25209;47815;34549</td>\n      <td>54308;42893;48734;39635;39568;53886;54295;1541...</td>\n      <td>54308;42893;6228;5702;48734;39635;25209;39568;...</td>\n      <td>1</td>\n      <td>1</td>\n      <td>1</td>\n      <td>201</td>\n      <td>201</td>\n      <td>1004</td>\n      <td>1004</td>\n      <td>albiano-divrea</td>\n      <td>NaN</td>\n      <td>0</td>\n      <td>MULTIPOLYGON (((415942.5039999997 5033304.6089...</td>\n    </tr>\n    <tr>\n      <th>4</th>\n      <td>[{\"type\": \"Feature\", \"properties\": {}, \"geomet...</td>\n      <td>[{\"type\": \"Feature\", \"properties\": {}, \"geomet...</td>\n      <td>[{\"type\": \"Feature\", \"properties\": {}, \"geomet...</td>\n      <td>[{\"type\": \"Feature\", \"properties\": {}, \"geomet...</td>\n      <td>[{\"type\": \"Feature\", \"properties\": {}, \"geomet...</td>\n      <td>47816;6389;54189;42563</td>\n      <td>44444;44735;9505;11859;8005;6395;47210</td>\n      <td>7872;43114;32022;44380;18604;30893;42857;11868...</td>\n      <td>7872;43114;44444;44735;9505;32022;11859;44380;...</td>\n      <td>1</td>\n      <td>1</td>\n      <td>1</td>\n      <td>201</td>\n      <td>201</td>\n      <td>1006</td>\n      <td>1006</td>\n      <td>almese</td>\n      <td>NaN</td>\n      <td>0</td>\n      <td>MULTIPOLYGON (((376934.96169999987 4999073.853...</td>\n    </tr>\n    <tr>\n      <th>...</th>\n      <td>...</td>\n      <td>...</td>\n      <td>...</td>\n      <td>...</td>\n      <td>...</td>\n      <td>...</td>\n      <td>...</td>\n      <td>...</td>\n      <td>...</td>\n      <td>...</td>\n      <td>...</td>\n      <td>...</td>\n      <td>...</td>\n      <td>...</td>\n      <td>...</td>\n      <td>...</td>\n      <td>...</td>\n      <td>...</td>\n      <td>...</td>\n      <td>...</td>\n    </tr>\n    <tr>\n      <th>398</th>\n      <td>[{\"type\": \"Feature\", \"properties\": {}, \"geomet...</td>\n      <td>[{\"type\": \"Feature\", \"properties\": {}, \"geomet...</td>\n      <td>[{\"type\": \"Feature\", \"properties\": {}, \"geomet...</td>\n      <td>[{\"type\": \"Feature\", \"properties\": {}, \"geomet...</td>\n      <td>[{\"type\": \"Feature\", \"properties\": {}, \"geomet...</td>\n      <td>;</td>\n      <td>51385;13608;45627</td>\n      <td>54457;8278;51418;39421</td>\n      <td>51385;54457;8278;51418;13608;45627;39421</td>\n      <td>1</td>\n      <td>1</td>\n      <td>3</td>\n      <td>0</td>\n      <td>3</td>\n      <td>3012</td>\n      <td>3012</td>\n      <td>barengo</td>\n      <td>NaN</td>\n      <td>0</td>\n      <td>MULTIPOLYGON (((463750.5554999998 5049455.4955...</td>\n    </tr>\n    <tr>\n      <th>399</th>\n      <td>[{\"type\": \"Feature\", \"properties\": {}, \"geomet...</td>\n      <td>[{\"type\": \"Feature\", \"properties\": {}, \"geomet...</td>\n      <td>[{\"type\": \"Feature\", \"properties\": {}, \"geomet...</td>\n      <td>[{\"type\": \"Feature\", \"properties\": {}, \"geomet...</td>\n      <td>[{\"type\": \"Feature\", \"properties\": {}, \"geomet...</td>\n      <td>52749;30044;41511;47331;9226</td>\n      <td>44915;45627;45637;22500;39209;20076;46045</td>\n      <td>9743;9744;21956;13608;7787</td>\n      <td>9743;9744;44915;21956;13608;45627;45637;22500;...</td>\n      <td>1</td>\n      <td>1</td>\n      <td>3</td>\n      <td>0</td>\n      <td>3</td>\n      <td>3016</td>\n      <td>3016</td>\n      <td>bellinzago-novarese</td>\n      <td>NaN</td>\n      <td>0</td>\n      <td>MULTIPOLYGON (((476111.33380000014 5047065.006...</td>\n    </tr>\n    <tr>\n      <th>400</th>\n      <td>[{\"type\": \"Feature\", \"properties\": {}, \"geomet...</td>\n      <td>[{\"type\": \"Feature\", \"properties\": {}, \"geomet...</td>\n      <td>[{\"type\": \"Feature\", \"properties\": {}, \"geomet...</td>\n      <td>[{\"type\": \"Feature\", \"properties\": {}, \"geomet...</td>\n      <td>[{\"type\": \"Feature\", \"properties\": {}, \"geomet...</td>\n      <td>40401;52241;38680</td>\n      <td>;</td>\n      <td>44557;17453;31509;32432;52978</td>\n      <td>44557;17453;31509;32432;52978</td>\n      <td>1</td>\n      <td>1</td>\n      <td>3</td>\n      <td>0</td>\n      <td>3</td>\n      <td>3018</td>\n      <td>3018</td>\n      <td>biandrate</td>\n      <td>NaN</td>\n      <td>0</td>\n      <td>MULTIPOLYGON (((456987.29360000044 5035042.101...</td>\n    </tr>\n    <tr>\n      <th>401</th>\n      <td>[{\"type\": \"Feature\", \"properties\": {}, \"geomet...</td>\n      <td>[{\"type\": \"Feature\", \"properties\": {}, \"geomet...</td>\n      <td>[{\"type\": \"Feature\", \"properties\": {}, \"geomet...</td>\n      <td>[{\"type\": \"Feature\", \"properties\": {}, \"geomet...</td>\n      <td>[{\"type\": \"Feature\", \"properties\": {}, \"geomet...</td>\n      <td>51115</td>\n      <td>29422;11745;51377;31441;33169;51824;25502</td>\n      <td>47652;49672;11750;7244;16377;49148;35221;6422;...</td>\n      <td>29422;47652;49672;11750;11745;51377;7244;16377...</td>\n      <td>1</td>\n      <td>1</td>\n      <td>3</td>\n      <td>0</td>\n      <td>3</td>\n      <td>3019</td>\n      <td>3019</td>\n      <td>boca</td>\n      <td>NaN</td>\n      <td>0</td>\n      <td>MULTIPOLYGON (((453399.97279999964 5060531.412...</td>\n    </tr>\n    <tr>\n      <th>402</th>\n      <td>[{\"type\": \"Feature\", \"properties\": {}, \"geomet...</td>\n      <td>[{\"type\": \"Feature\", \"properties\": {}, \"geomet...</td>\n      <td>[{\"type\": \"Feature\", \"properties\": {}, \"geomet...</td>\n      <td>[{\"type\": \"Feature\", \"properties\": {}, \"geomet...</td>\n      <td>[{\"type\": \"Feature\", \"properties\": {}, \"geomet...</td>\n      <td>47154</td>\n      <td>49672;41123;40495;39421</td>\n      <td>38920;9546;29422;51377;7244;16377;49148;31441;...</td>\n      <td>38920;9546;29422;49672;51377;7244;16377;49148;...</td>\n      <td>1</td>\n      <td>1</td>\n      <td>3</td>\n      <td>0</td>\n      <td>3</td>\n      <td>3021</td>\n      <td>3021</td>\n      <td>bogogno</td>\n      <td>NaN</td>\n      <td>0</td>\n      <td>MULTIPOLYGON (((463701.3661000002 5058639.9273...</td>\n    </tr>\n  </tbody>\n</table>\n<p>403 rows × 20 columns</p>\n</div>"
     },
     "execution_count": 51,
     "metadata": {},
     "output_type": "execute_result"
    }
   ],
   "source": [
    "municipalities_df"
   ],
   "metadata": {
    "collapsed": false
   }
  },
  {
   "cell_type": "code",
   "execution_count": 46,
   "outputs": [],
   "source": [
    "m = _get_items(10)"
   ],
   "metadata": {
    "collapsed": false
   }
  },
  {
   "cell_type": "code",
   "execution_count": 56,
   "outputs": [
    {
     "name": "stdout",
     "output_type": "stream",
     "text": [
      "centroid            [{\"type\": \"Feature\", \"properties\": {}, \"geomet...\n",
      "area_comune         [{\"type\": \"Feature\", \"properties\": {}, \"geomet...\n",
      "buffer_1            [{\"type\": \"Feature\", \"properties\": {}, \"geomet...\n",
      "buffer_3            [{\"type\": \"Feature\", \"properties\": {}, \"geomet...\n",
      "buffer_5            [{\"type\": \"Feature\", \"properties\": {}, \"geomet...\n",
      "stationsId_one                                                      ;\n",
      "stationsId_three                                    50324;32456;47312\n",
      "stationsId_five     6794;43325;47145;37603;11888;37172;51095;37910...\n",
      "all_stations        50324;6794;43325;32456;47312;47145;37603;11888...\n",
      "COD_RIP                                                             1\n",
      "COD_REG                                                             1\n",
      "COD_PROV                                                            1\n",
      "COD_CM                                                            201\n",
      "COD_UTS                                                           201\n",
      "PRO_COM                                                          1012\n",
      "PRO_COM_T                                                        1012\n",
      "COMUNE                                                       arignano\n",
      "COMUNE_A                                                          NaN\n",
      "CC_UTS                                                              0\n",
      "geometry            MULTIPOLYGON (((413545.5007999996 4990368.9298...\n",
      "Name: 10, dtype: object\n"
     ]
    }
   ],
   "source": [
    "for i in m:\n",
    "    print(i)\n",
    "    break\n"
   ],
   "metadata": {
    "collapsed": false
   }
  },
  {
   "cell_type": "code",
   "execution_count": 57,
   "outputs": [
    {
     "data": {
      "text/plain": "{'', '32456', '47312', '50324'}"
     },
     "execution_count": 57,
     "metadata": {},
     "output_type": "execute_result"
    }
   ],
   "source": [
    "set(i.stationsId_one.split(\";\")) set(i.stationsId_three.split(\";\"))\n"
   ],
   "metadata": {
    "collapsed": false
   }
  },
  {
   "cell_type": "code",
   "execution_count": 61,
   "outputs": [
    {
     "data": {
      "text/plain": "set()"
     },
     "execution_count": 61,
     "metadata": {},
     "output_type": "execute_result"
    }
   ],
   "source": [
    "set(i.stationsId_one.split(\";\")).intersection(set(i.stationsId_three.split(\";\")))"
   ],
   "metadata": {
    "collapsed": false
   }
  },
  {
   "cell_type": "code",
   "execution_count": 77,
   "outputs": [
    {
     "name": "stdout",
     "output_type": "stream",
     "text": [
      "{'46031', '16552', '50176', '54900', '4644', '36320', '11306', '54373', '11253', '48550', '54369', '25303', '51452', '33398', '50286', '26246', '25733', '43387', '36373', '39057', '38229', '15311', '11431', '15828'}\n"
     ]
    }
   ],
   "source": [
    "print(set(municipalities_df.loc[municipalities_df.COMUNE == 'medolago'].all_stations.values[0].split(\";\")))\n"
   ],
   "metadata": {
    "collapsed": false
   }
  }
 ],
 "metadata": {
  "interpreter": {
   "hash": "c27e4d448bea9d7f33ced151ac136149fed1d463af6fdffa23d4cea135965979"
  },
  "kernelspec": {
   "display_name": "Python 3.9.4 64-bit ('geo': venv)",
   "name": "python3"
  },
  "language_info": {
   "codemirror_mode": {
    "name": "ipython",
    "version": 3
   },
   "file_extension": ".py",
   "mimetype": "text/x-python",
   "name": "python",
   "nbconvert_exporter": "python",
   "pygments_lexer": "ipython3",
   "version": "3.9.4"
  },
  "orig_nbformat": 4
 },
 "nbformat": 4,
 "nbformat_minor": 2
}
