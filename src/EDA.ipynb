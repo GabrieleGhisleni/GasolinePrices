{
 "cells": [
  {
   "cell_type": "code",
   "execution_count": 1,
   "metadata": {},
   "outputs": [
    {
     "name": "stderr",
     "output_type": "stream",
     "text": [
      "c:\\Users\\DELL\\VENV\\geo\\lib\\site-packages\\geopandas\\_compat.py:106: UserWarning: The Shapely GEOS version (3.8.1-CAPI-1.13.3) is incompatible with the GEOS version PyGEOS was compiled with (3.9.1-CAPI-1.14.2). Conversions between both will be slow.\n",
      "  warnings.warn(\n"
     ]
    }
   ],
   "source": [
    "import requests\n",
    "import pandas as pd\n",
    "import numpy as np\n",
    "import geopandas as gpd\n",
    "import matplotlib.pyplot as plt"
   ]
  },
  {
   "cell_type": "code",
   "execution_count": 2,
   "metadata": {},
   "outputs": [
    {
     "data": {
      "text/html": [
       "<div>\n",
       "<style scoped>\n",
       "    .dataframe tbody tr th:only-of-type {\n",
       "        vertical-align: middle;\n",
       "    }\n",
       "\n",
       "    .dataframe tbody tr th {\n",
       "        vertical-align: top;\n",
       "    }\n",
       "\n",
       "    .dataframe thead th {\n",
       "        text-align: right;\n",
       "    }\n",
       "</style>\n",
       "<table border=\"1\" class=\"dataframe\">\n",
       "  <thead>\n",
       "    <tr style=\"text-align: right;\">\n",
       "      <th></th>\n",
       "      <th>idImpianto</th>\n",
       "      <th>descCarburante</th>\n",
       "      <th>prezzo</th>\n",
       "      <th>isSelf</th>\n",
       "      <th>dtComu</th>\n",
       "    </tr>\n",
       "  </thead>\n",
       "  <tbody>\n",
       "    <tr>\n",
       "      <th>0</th>\n",
       "      <td>6492</td>\n",
       "      <td>Hi-Q Diesel</td>\n",
       "      <td>1.644</td>\n",
       "      <td>1</td>\n",
       "      <td>11/10/2021 17:33:16</td>\n",
       "    </tr>\n",
       "    <tr>\n",
       "      <th>1</th>\n",
       "      <td>6612</td>\n",
       "      <td>Hi-Q Diesel</td>\n",
       "      <td>1.669</td>\n",
       "      <td>1</td>\n",
       "      <td>13/10/2021 01:11:44</td>\n",
       "    </tr>\n",
       "  </tbody>\n",
       "</table>\n",
       "</div>"
      ],
      "text/plain": [
       "   idImpianto descCarburante  prezzo  isSelf               dtComu\n",
       "0        6492    Hi-Q Diesel   1.644       1  11/10/2021 17:33:16\n",
       "1        6612    Hi-Q Diesel   1.669       1  13/10/2021 01:11:44"
      ]
     },
     "execution_count": 2,
     "metadata": {},
     "output_type": "execute_result"
    }
   ],
   "source": [
    "url = \"https://www.mise.gov.it/images/exportCSV/prezzo_alle_8.csv\"\n",
    "df_prezzi = pd.read_csv(url, delimiter=';', skiprows=1)\n",
    "df_prezzi.head(2)"
   ]
  },
  {
   "cell_type": "code",
   "execution_count": 3,
   "metadata": {},
   "outputs": [],
   "source": [
    "df_prezzi = df_prezzi.loc[:, ['idImpianto', 'descCarburante', 'prezzo']]\n",
    "df_prezzi.columns = ['id', 'gasoline_type','price']"
   ]
  },
  {
   "cell_type": "code",
   "execution_count": 2,
   "metadata": {},
   "outputs": [],
   "source": [
    "url_impianti = \"https://www.mise.gov.it/images/exportCSV/anagrafica_impianti_attivi.csv\"\n",
    "df_impianti = pd.read_csv(url_impianti, delimiter=';', skiprows=1)"
   ]
  },
  {
   "cell_type": "code",
   "execution_count": 3,
   "metadata": {},
   "outputs": [],
   "source": [
    "geo_stations = gpd.GeoDataFrame(\n",
    "    df_impianti,\n",
    "    crs='EPSG:4326',\n",
    "    geometry=gpd.points_from_xy(df_impianti.Longitudine, df_impianti.Latitudine))"
   ]
  },
  {
   "cell_type": "code",
   "execution_count": 4,
   "metadata": {},
   "outputs": [],
   "source": [
    "# Keeping only usefull columns\n",
    "geo_stations = geo_stations.loc[:, ['idImpianto', 'Gestore','Bandiera', 'Nome Impianto','Indirizzo', 'Comune', 'geometry']]\n",
    "\n",
    "## Retriving only valid geometry\n",
    "geo_stations= geo_stations.loc[geo_stations.geometry.is_valid,:]\n",
    "geo_stations.rename(columns={'idImpianto': 'id'}, inplace=True)\n",
    "# geo_stations.to_file('impianti.geojson', driver='GeoJSON')  "
   ]
  },
  {
   "cell_type": "code",
   "execution_count": 7,
   "metadata": {},
   "outputs": [],
   "source": [
    "# url = 'https://github.com/napo/geospatial_course_unitn/raw/master/data/istat/istat_administrative_units_generalized_2021.gpkg'\n",
    "# macroregions = gpd.read_file(url,layer=\"macroregions\")\n",
    "# fix, axes= plt.subplots(1,1, figsize=(20,20))\n",
    "\n",
    "# plt.title('Italian Station Available')\n",
    "\n",
    "# macroregions.to_crs(epsg=4326).plot(ax=axes, color='lightblue', edgecolor='black', alpha=0.5)\n",
    "# geo_stations.plot(ax=axes,\n",
    "#                     color='royalblue',\n",
    "#                     markersize= 1.4\n",
    "#                     )\n",
    "\n",
    "# plt.axis('off')\n",
    "# plt.savefig('italian-station.png', dpi=300)\n",
    "# plt.show()"
   ]
  },
  {
   "cell_type": "code",
   "execution_count": 53,
   "metadata": {},
   "outputs": [],
   "source": [
    "macroregions.to_file('municipalities.geojson', driver='GeoJSON')"
   ]
  },
  {
   "cell_type": "code",
   "execution_count": 79,
   "metadata": {},
   "outputs": [],
   "source": [
    "import json\n",
    "comune = 'Bergamo'\n",
    "with open(f\"./../data/prices_for_municipality/{comune.lower()}.json\", 'r') as f:\n",
    "    result = json.load(f)"
   ]
  },
  {
   "cell_type": "code",
   "execution_count": 80,
   "metadata": {},
   "outputs": [
    {
     "data": {
      "text/plain": [
       "[]"
      ]
     },
     "execution_count": 80,
     "metadata": {},
     "output_type": "execute_result"
    }
   ],
   "source": [
    "result['Benzina']['3']['multipolygon']"
   ]
  },
  {
   "cell_type": "code",
   "execution_count": 77,
   "metadata": {},
   "outputs": [],
   "source": [
    "url = 'https://github.com/napo/geospatial_course_unitn/raw/master/data/istat/istat_administrative_units_generalized_2021.gpkg'\n",
    "macroregions = gpd.read_file(url,layer=\"municipalities\")\n",
    "medo = macroregions.loc[macroregions.COMUNE == 'Bergamo']"
   ]
  },
  {
   "cell_type": "code",
   "execution_count": 78,
   "metadata": {},
   "outputs": [],
   "source": [
    "area = result['Benzina']['5']['multipolygon']\n",
    "prices = result['Benzina']['3']['price']"
   ]
  },
  {
   "cell_type": "code",
   "execution_count": 43,
   "metadata": {},
   "outputs": [],
   "source": [
    "area\n",
    "from shapely.geometry.multipolygon import MultiPolygon\n",
    "from shapely.geometry import Point\n",
    "from shapely.geometry import shape\n",
    "Multi = MultiPolygon([shape(area)])"
   ]
  },
  {
   "cell_type": "code",
   "execution_count": 81,
   "metadata": {},
   "outputs": [],
   "source": [
    "res = []\n",
    "for stat in prices[0:5]:\n",
    "    stat['geometry'] = Point(shape(stat['geometry']))\n",
    "    res.append(stat)\n"
   ]
  },
  {
   "cell_type": "code",
   "execution_count": 82,
   "metadata": {},
   "outputs": [],
   "source": [
    "medo_geo = gpd.GeoDataFrame(res)\n",
    "buffer_medo = gpd.GeoDataFrame({'geometry' :Multi})"
   ]
  },
  {
   "cell_type": "code",
   "execution_count": 83,
   "metadata": {},
   "outputs": [],
   "source": [
    "medo_geo['color'] =['darkgreen','yellow','red','grey','grey']"
   ]
  },
  {
   "cell_type": "code",
   "execution_count": 84,
   "metadata": {},
   "outputs": [
    {
     "data": {
      "image/png": "[encoded data removed]",
      "text/plain": [
       "<Figure size 720x720 with 1 Axes>"
      ]
     },
     "metadata": {
      "needs_background": "light"
     },
     "output_type": "display_data"
    }
   ],
   "source": [
    "fig, axes = plt.subplots(1,1, figsize=(10,10))\n",
    "\n",
    "\n",
    "buffer_medo.plot(ax=axes)\n",
    "medo.to_crs(epsg=4326).plot(ax=axes, color='purple')\n",
    "medo_geo.plot(ax=axes, color=medo_geo.color, markersize=100)\n",
    "\n",
    "plt.show()"
   ]
  },
  {
   "cell_type": "code",
   "execution_count": 85,
   "metadata": {},
   "outputs": [
    {
     "ename": "AttributeError",
     "evalue": "'str' object has no attribute 'reverse'",
     "output_type": "error",
     "traceback": [
      "\u001b[1;31m---------------------------------------------------------------------------\u001b[0m",
      "\u001b[1;31mAttributeError\u001b[0m                            Traceback (most recent call last)",
      "\u001b[1;32m~\\AppData\\Local\\Temp/ipykernel_3548/232253413.py\u001b[0m in \u001b[0;36m<module>\u001b[1;34m\u001b[0m\n\u001b[1;32m----> 1\u001b[1;33m \u001b[1;34m'fsdfsd'\u001b[0m\u001b[1;33m.\u001b[0m\u001b[0mreverse\u001b[0m\u001b[1;33m(\u001b[0m\u001b[1;33m)\u001b[0m\u001b[1;33m\u001b[0m\u001b[1;33m\u001b[0m\u001b[0m\n\u001b[0m",
      "\u001b[1;31mAttributeError\u001b[0m: 'str' object has no attribute 'reverse'"
     ]
    }
   ],
   "source": []
  }
 ],
 "metadata": {
  "interpreter": {
   "hash": "c27e4d448bea9d7f33ced151ac136149fed1d463af6fdffa23d4cea135965979"
  },
  "kernelspec": {
   "display_name": "Python 3.9.4 64-bit ('geo': venv)",
   "name": "python3"
  },
  "language_info": {
   "codemirror_mode": {
    "name": "ipython",
    "version": 3
   },
   "file_extension": ".py",
   "mimetype": "text/x-python",
   "name": "python",
   "nbconvert_exporter": "python",
   "pygments_lexer": "ipython3",
   "version": "3.9.4"
  },
  "orig_nbformat": 4
 },
 "nbformat": 4,
 "nbformat_minor": 2
}
